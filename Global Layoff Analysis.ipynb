{
 "cells": [
  {
   "cell_type": "markdown",
   "id": "f140f3b0-cd67-4755-9d26-a939dab15c9b",
   "metadata": {},
   "source": [
    "# Post-Covid Global Layoff Trends: Insights & Analysis"
   ]
  },
  {
   "cell_type": "markdown",
   "id": "6f5a3565-479a-4684-a234-2b229d3d855e",
   "metadata": {},
   "source": [
    "### This project dives into Global Layoff Trends Post-Covid, analysing how industries, company stages, funding, and locations influenced workforce reductions. By transforming raw data into interactive visualizations, it uncovers hidden patterns, highlights the most affected sectors and regions, and tells a compelling story of how the job market evolved. \n",
    "\n",
    "### The goal is to provide actionable, data-driven insights that are easy to explore and understand, making complex workforce shifts immediately clear to anyone reviewing the analysis."
   ]
  },
  {
   "cell_type": "code",
   "execution_count": 1,
   "id": "f6d7732a-f0ba-480f-ba67-06eaad1f7cd9",
   "metadata": {},
   "outputs": [],
   "source": [
    "# Dateset Link: https://www.kaggle.com/datasets/swaptr/layoffs-2022"
   ]
  },
  {
   "cell_type": "code",
   "execution_count": 2,
   "id": "0a90ed38-0784-4401-abd4-4d05cfbd5d78",
   "metadata": {},
   "outputs": [],
   "source": [
    "# For Data handling\n",
    "import pandas as pd\n",
    "import numpy as np\n",
    "\n",
    "# For visualization\n",
    "import matplotlib.pyplot as plt\n",
    "import seaborn as sns\n",
    "import plotly.express as px\n",
    "%matplotlib inline\n",
    "\n",
    "# For SQL queries\n",
    "import sqlite3"
   ]
  },
  {
   "cell_type": "code",
   "execution_count": 3,
   "id": "fa896dde-5a16-4872-9cb6-cc531bbaa72d",
   "metadata": {},
   "outputs": [],
   "source": [
    "# Loading CSV into python\n",
    "df = pd.read_csv('layoffs.csv')"
   ]
  },
  {
   "cell_type": "code",
   "execution_count": 4,
   "id": "0f8b9337-f8ef-4853-9eb1-7c675741a1ca",
   "metadata": {},
   "outputs": [],
   "source": [
    "# Creating SQLite database\n",
    "conn = sqlite3.connect('layoffs.db')"
   ]
  },
  {
   "cell_type": "code",
   "execution_count": 5,
   "id": "75405862-cbc5-451d-b656-6a3496393bd2",
   "metadata": {},
   "outputs": [
    {
     "data": {
      "text/plain": [
       "4149"
      ]
     },
     "execution_count": 5,
     "metadata": {},
     "output_type": "execute_result"
    }
   ],
   "source": [
    "# Loading data into SQLite\n",
    "df.to_sql('layoffs', conn, if_exists = 'replace', index = False)"
   ]
  },
  {
   "cell_type": "code",
   "execution_count": 6,
   "id": "d68cb4c1-bfcd-4fba-a415-607c7914c753",
   "metadata": {},
   "outputs": [
    {
     "data": {
      "text/html": [
       "<div>\n",
       "<style scoped>\n",
       "    .dataframe tbody tr th:only-of-type {\n",
       "        vertical-align: middle;\n",
       "    }\n",
       "\n",
       "    .dataframe tbody tr th {\n",
       "        vertical-align: top;\n",
       "    }\n",
       "\n",
       "    .dataframe thead th {\n",
       "        text-align: right;\n",
       "    }\n",
       "</style>\n",
       "<table border=\"1\" class=\"dataframe\">\n",
       "  <thead>\n",
       "    <tr style=\"text-align: right;\">\n",
       "      <th></th>\n",
       "      <th>company</th>\n",
       "      <th>location</th>\n",
       "      <th>total_laid_off</th>\n",
       "      <th>date</th>\n",
       "      <th>percentage_laid_off</th>\n",
       "      <th>industry</th>\n",
       "      <th>source</th>\n",
       "      <th>stage</th>\n",
       "      <th>funds_raised</th>\n",
       "      <th>country</th>\n",
       "      <th>date_added</th>\n",
       "    </tr>\n",
       "  </thead>\n",
       "  <tbody>\n",
       "    <tr>\n",
       "      <th>0</th>\n",
       "      <td>Games 24x7</td>\n",
       "      <td>Mumbai,Non-U.S.</td>\n",
       "      <td>400.0</td>\n",
       "      <td>9/1/2025</td>\n",
       "      <td>NaN</td>\n",
       "      <td>Consumer</td>\n",
       "      <td>https://www.peoplematters.in/news/strategic-hr...</td>\n",
       "      <td>Unknown</td>\n",
       "      <td>$75</td>\n",
       "      <td>India</td>\n",
       "      <td>9/2/2025</td>\n",
       "    </tr>\n",
       "    <tr>\n",
       "      <th>1</th>\n",
       "      <td>Mobile Premier League</td>\n",
       "      <td>Bengaluru,Non-U.S.</td>\n",
       "      <td>300.0</td>\n",
       "      <td>9/1/2025</td>\n",
       "      <td>NaN</td>\n",
       "      <td>Consumer</td>\n",
       "      <td>https://timesofindia.indiatimes.com/technology...</td>\n",
       "      <td>Series E</td>\n",
       "      <td>$375</td>\n",
       "      <td>India</td>\n",
       "      <td>9/2/2025</td>\n",
       "    </tr>\n",
       "    <tr>\n",
       "      <th>2</th>\n",
       "      <td>Krutrim</td>\n",
       "      <td>Bengaluru,Non-U.S.</td>\n",
       "      <td>50.0</td>\n",
       "      <td>9/1/2025</td>\n",
       "      <td>NaN</td>\n",
       "      <td>AI</td>\n",
       "      <td>https://www.techinasia.com/news/olas-krutrim-c...</td>\n",
       "      <td>Unknown</td>\n",
       "      <td>$304</td>\n",
       "      <td>India</td>\n",
       "      <td>9/2/2025</td>\n",
       "    </tr>\n",
       "    <tr>\n",
       "      <th>3</th>\n",
       "      <td>Salesforce</td>\n",
       "      <td>SF Bay Area</td>\n",
       "      <td>4000.0</td>\n",
       "      <td>8/31/2025</td>\n",
       "      <td>NaN</td>\n",
       "      <td>Sales</td>\n",
       "      <td>https://www.businessinsider.com/marc-benioff-s...</td>\n",
       "      <td>Post-IPO</td>\n",
       "      <td>$65</td>\n",
       "      <td>United States</td>\n",
       "      <td>9/2/2025</td>\n",
       "    </tr>\n",
       "    <tr>\n",
       "      <th>4</th>\n",
       "      <td>Flip</td>\n",
       "      <td>SF Bay Area</td>\n",
       "      <td>NaN</td>\n",
       "      <td>8/29/2025</td>\n",
       "      <td>100%</td>\n",
       "      <td>Consumer</td>\n",
       "      <td>https://www.sfgate.com/tech/article/flip-start...</td>\n",
       "      <td>Series C</td>\n",
       "      <td>$294</td>\n",
       "      <td>United States</td>\n",
       "      <td>8/30/2025</td>\n",
       "    </tr>\n",
       "  </tbody>\n",
       "</table>\n",
       "</div>"
      ],
      "text/plain": [
       "                 company            location  total_laid_off       date  \\\n",
       "0             Games 24x7     Mumbai,Non-U.S.           400.0   9/1/2025   \n",
       "1  Mobile Premier League  Bengaluru,Non-U.S.           300.0   9/1/2025   \n",
       "2                Krutrim  Bengaluru,Non-U.S.            50.0   9/1/2025   \n",
       "3             Salesforce         SF Bay Area          4000.0  8/31/2025   \n",
       "4                   Flip         SF Bay Area             NaN  8/29/2025   \n",
       "\n",
       "  percentage_laid_off  industry  \\\n",
       "0                 NaN  Consumer   \n",
       "1                 NaN  Consumer   \n",
       "2                 NaN        AI   \n",
       "3                 NaN     Sales   \n",
       "4                100%  Consumer   \n",
       "\n",
       "                                              source     stage funds_raised  \\\n",
       "0  https://www.peoplematters.in/news/strategic-hr...   Unknown          $75   \n",
       "1  https://timesofindia.indiatimes.com/technology...  Series E         $375   \n",
       "2  https://www.techinasia.com/news/olas-krutrim-c...   Unknown         $304   \n",
       "3  https://www.businessinsider.com/marc-benioff-s...  Post-IPO          $65   \n",
       "4  https://www.sfgate.com/tech/article/flip-start...  Series C         $294   \n",
       "\n",
       "         country date_added  \n",
       "0          India   9/2/2025  \n",
       "1          India   9/2/2025  \n",
       "2          India   9/2/2025  \n",
       "3  United States   9/2/2025  \n",
       "4  United States  8/30/2025  "
      ]
     },
     "execution_count": 6,
     "metadata": {},
     "output_type": "execute_result"
    }
   ],
   "source": [
    "df.head()"
   ]
  },
  {
   "cell_type": "code",
   "execution_count": 7,
   "id": "750042a1-00e6-4cca-94b8-5f5f98cc3c63",
   "metadata": {},
   "outputs": [
    {
     "data": {
      "text/plain": [
       "(4149, 11)"
      ]
     },
     "execution_count": 7,
     "metadata": {},
     "output_type": "execute_result"
    }
   ],
   "source": [
    "df.shape"
   ]
  },
  {
   "cell_type": "code",
   "execution_count": 8,
   "id": "73d42154-64a1-41a2-bda3-36c4f23200a8",
   "metadata": {},
   "outputs": [
    {
     "data": {
      "text/plain": [
       "Index(['company', 'location', 'total_laid_off', 'date', 'percentage_laid_off',\n",
       "       'industry', 'source', 'stage', 'funds_raised', 'country', 'date_added'],\n",
       "      dtype='object')"
      ]
     },
     "execution_count": 8,
     "metadata": {},
     "output_type": "execute_result"
    }
   ],
   "source": [
    "df.columns"
   ]
  },
  {
   "cell_type": "code",
   "execution_count": 9,
   "id": "42dfccfb-cd64-4cfe-b74d-9a4781b17938",
   "metadata": {},
   "outputs": [
    {
     "name": "stdout",
     "output_type": "stream",
     "text": [
      "<class 'pandas.core.frame.DataFrame'>\n",
      "RangeIndex: 4149 entries, 0 to 4148\n",
      "Data columns (total 11 columns):\n",
      " #   Column               Non-Null Count  Dtype  \n",
      "---  ------               --------------  -----  \n",
      " 0   company              4149 non-null   object \n",
      " 1   location             4148 non-null   object \n",
      " 2   total_laid_off       2703 non-null   float64\n",
      " 3   date                 4149 non-null   object \n",
      " 4   percentage_laid_off  2633 non-null   object \n",
      " 5   industry             4147 non-null   object \n",
      " 6   source               4146 non-null   object \n",
      " 7   stage                4144 non-null   object \n",
      " 8   funds_raised         3688 non-null   object \n",
      " 9   country              4147 non-null   object \n",
      " 10  date_added           4149 non-null   object \n",
      "dtypes: float64(1), object(10)\n",
      "memory usage: 356.7+ KB\n"
     ]
    }
   ],
   "source": [
    "df.info()"
   ]
  },
  {
   "cell_type": "code",
   "execution_count": 10,
   "id": "0dfdbd28-8e6a-4a3a-b0f1-8656bd9c2010",
   "metadata": {},
   "outputs": [
    {
     "data": {
      "text/html": [
       "<div>\n",
       "<style scoped>\n",
       "    .dataframe tbody tr th:only-of-type {\n",
       "        vertical-align: middle;\n",
       "    }\n",
       "\n",
       "    .dataframe tbody tr th {\n",
       "        vertical-align: top;\n",
       "    }\n",
       "\n",
       "    .dataframe thead th {\n",
       "        text-align: right;\n",
       "    }\n",
       "</style>\n",
       "<table border=\"1\" class=\"dataframe\">\n",
       "  <thead>\n",
       "    <tr style=\"text-align: right;\">\n",
       "      <th></th>\n",
       "      <th>total_laid_off</th>\n",
       "    </tr>\n",
       "  </thead>\n",
       "  <tbody>\n",
       "    <tr>\n",
       "      <th>count</th>\n",
       "      <td>2703.000000</td>\n",
       "    </tr>\n",
       "    <tr>\n",
       "      <th>mean</th>\n",
       "      <td>283.490566</td>\n",
       "    </tr>\n",
       "    <tr>\n",
       "      <th>std</th>\n",
       "      <td>976.103479</td>\n",
       "    </tr>\n",
       "    <tr>\n",
       "      <th>min</th>\n",
       "      <td>3.000000</td>\n",
       "    </tr>\n",
       "    <tr>\n",
       "      <th>25%</th>\n",
       "      <td>40.000000</td>\n",
       "    </tr>\n",
       "    <tr>\n",
       "      <th>50%</th>\n",
       "      <td>87.000000</td>\n",
       "    </tr>\n",
       "    <tr>\n",
       "      <th>75%</th>\n",
       "      <td>200.000000</td>\n",
       "    </tr>\n",
       "    <tr>\n",
       "      <th>max</th>\n",
       "      <td>22000.000000</td>\n",
       "    </tr>\n",
       "  </tbody>\n",
       "</table>\n",
       "</div>"
      ],
      "text/plain": [
       "       total_laid_off\n",
       "count     2703.000000\n",
       "mean       283.490566\n",
       "std        976.103479\n",
       "min          3.000000\n",
       "25%         40.000000\n",
       "50%         87.000000\n",
       "75%        200.000000\n",
       "max      22000.000000"
      ]
     },
     "execution_count": 10,
     "metadata": {},
     "output_type": "execute_result"
    }
   ],
   "source": [
    "df.describe()"
   ]
  },
  {
   "cell_type": "code",
   "execution_count": 11,
   "id": "69981550-8204-42c0-b770-42b2c96ae7f5",
   "metadata": {
    "scrolled": true
   },
   "outputs": [
    {
     "data": {
      "text/html": [
       "<div>\n",
       "<style scoped>\n",
       "    .dataframe tbody tr th:only-of-type {\n",
       "        vertical-align: middle;\n",
       "    }\n",
       "\n",
       "    .dataframe tbody tr th {\n",
       "        vertical-align: top;\n",
       "    }\n",
       "\n",
       "    .dataframe thead th {\n",
       "        text-align: right;\n",
       "    }\n",
       "</style>\n",
       "<table border=\"1\" class=\"dataframe\">\n",
       "  <thead>\n",
       "    <tr style=\"text-align: right;\">\n",
       "      <th></th>\n",
       "      <th>company</th>\n",
       "      <th>location</th>\n",
       "      <th>total_laid_off</th>\n",
       "      <th>date</th>\n",
       "      <th>percentage_laid_off</th>\n",
       "      <th>industry</th>\n",
       "      <th>source</th>\n",
       "      <th>stage</th>\n",
       "      <th>funds_raised</th>\n",
       "      <th>country</th>\n",
       "      <th>date_added</th>\n",
       "    </tr>\n",
       "  </thead>\n",
       "  <tbody>\n",
       "    <tr>\n",
       "      <th>count</th>\n",
       "      <td>4149</td>\n",
       "      <td>4148</td>\n",
       "      <td>2703.000000</td>\n",
       "      <td>4149</td>\n",
       "      <td>2633</td>\n",
       "      <td>4147</td>\n",
       "      <td>4146</td>\n",
       "      <td>4144</td>\n",
       "      <td>3688</td>\n",
       "      <td>4147</td>\n",
       "      <td>4149</td>\n",
       "    </tr>\n",
       "    <tr>\n",
       "      <th>unique</th>\n",
       "      <td>2820</td>\n",
       "      <td>265</td>\n",
       "      <td>NaN</td>\n",
       "      <td>1094</td>\n",
       "      <td>73</td>\n",
       "      <td>30</td>\n",
       "      <td>3898</td>\n",
       "      <td>16</td>\n",
       "      <td>718</td>\n",
       "      <td>66</td>\n",
       "      <td>955</td>\n",
       "    </tr>\n",
       "    <tr>\n",
       "      <th>top</th>\n",
       "      <td>Microsoft</td>\n",
       "      <td>SF Bay Area</td>\n",
       "      <td>NaN</td>\n",
       "      <td>4/2/2020</td>\n",
       "      <td>100%</td>\n",
       "      <td>Finance</td>\n",
       "      <td>Internal memo</td>\n",
       "      <td>Post-IPO</td>\n",
       "      <td>$1</td>\n",
       "      <td>United States</td>\n",
       "      <td>11/17/2022</td>\n",
       "    </tr>\n",
       "    <tr>\n",
       "      <th>freq</th>\n",
       "      <td>15</td>\n",
       "      <td>1034</td>\n",
       "      <td>NaN</td>\n",
       "      <td>27</td>\n",
       "      <td>329</td>\n",
       "      <td>494</td>\n",
       "      <td>101</td>\n",
       "      <td>943</td>\n",
       "      <td>45</td>\n",
       "      <td>2639</td>\n",
       "      <td>45</td>\n",
       "    </tr>\n",
       "    <tr>\n",
       "      <th>mean</th>\n",
       "      <td>NaN</td>\n",
       "      <td>NaN</td>\n",
       "      <td>283.490566</td>\n",
       "      <td>NaN</td>\n",
       "      <td>NaN</td>\n",
       "      <td>NaN</td>\n",
       "      <td>NaN</td>\n",
       "      <td>NaN</td>\n",
       "      <td>NaN</td>\n",
       "      <td>NaN</td>\n",
       "      <td>NaN</td>\n",
       "    </tr>\n",
       "    <tr>\n",
       "      <th>std</th>\n",
       "      <td>NaN</td>\n",
       "      <td>NaN</td>\n",
       "      <td>976.103479</td>\n",
       "      <td>NaN</td>\n",
       "      <td>NaN</td>\n",
       "      <td>NaN</td>\n",
       "      <td>NaN</td>\n",
       "      <td>NaN</td>\n",
       "      <td>NaN</td>\n",
       "      <td>NaN</td>\n",
       "      <td>NaN</td>\n",
       "    </tr>\n",
       "    <tr>\n",
       "      <th>min</th>\n",
       "      <td>NaN</td>\n",
       "      <td>NaN</td>\n",
       "      <td>3.000000</td>\n",
       "      <td>NaN</td>\n",
       "      <td>NaN</td>\n",
       "      <td>NaN</td>\n",
       "      <td>NaN</td>\n",
       "      <td>NaN</td>\n",
       "      <td>NaN</td>\n",
       "      <td>NaN</td>\n",
       "      <td>NaN</td>\n",
       "    </tr>\n",
       "    <tr>\n",
       "      <th>25%</th>\n",
       "      <td>NaN</td>\n",
       "      <td>NaN</td>\n",
       "      <td>40.000000</td>\n",
       "      <td>NaN</td>\n",
       "      <td>NaN</td>\n",
       "      <td>NaN</td>\n",
       "      <td>NaN</td>\n",
       "      <td>NaN</td>\n",
       "      <td>NaN</td>\n",
       "      <td>NaN</td>\n",
       "      <td>NaN</td>\n",
       "    </tr>\n",
       "    <tr>\n",
       "      <th>50%</th>\n",
       "      <td>NaN</td>\n",
       "      <td>NaN</td>\n",
       "      <td>87.000000</td>\n",
       "      <td>NaN</td>\n",
       "      <td>NaN</td>\n",
       "      <td>NaN</td>\n",
       "      <td>NaN</td>\n",
       "      <td>NaN</td>\n",
       "      <td>NaN</td>\n",
       "      <td>NaN</td>\n",
       "      <td>NaN</td>\n",
       "    </tr>\n",
       "    <tr>\n",
       "      <th>75%</th>\n",
       "      <td>NaN</td>\n",
       "      <td>NaN</td>\n",
       "      <td>200.000000</td>\n",
       "      <td>NaN</td>\n",
       "      <td>NaN</td>\n",
       "      <td>NaN</td>\n",
       "      <td>NaN</td>\n",
       "      <td>NaN</td>\n",
       "      <td>NaN</td>\n",
       "      <td>NaN</td>\n",
       "      <td>NaN</td>\n",
       "    </tr>\n",
       "    <tr>\n",
       "      <th>max</th>\n",
       "      <td>NaN</td>\n",
       "      <td>NaN</td>\n",
       "      <td>22000.000000</td>\n",
       "      <td>NaN</td>\n",
       "      <td>NaN</td>\n",
       "      <td>NaN</td>\n",
       "      <td>NaN</td>\n",
       "      <td>NaN</td>\n",
       "      <td>NaN</td>\n",
       "      <td>NaN</td>\n",
       "      <td>NaN</td>\n",
       "    </tr>\n",
       "  </tbody>\n",
       "</table>\n",
       "</div>"
      ],
      "text/plain": [
       "          company     location  total_laid_off      date percentage_laid_off  \\\n",
       "count        4149         4148     2703.000000      4149                2633   \n",
       "unique       2820          265             NaN      1094                  73   \n",
       "top     Microsoft  SF Bay Area             NaN  4/2/2020                100%   \n",
       "freq           15         1034             NaN        27                 329   \n",
       "mean          NaN          NaN      283.490566       NaN                 NaN   \n",
       "std           NaN          NaN      976.103479       NaN                 NaN   \n",
       "min           NaN          NaN        3.000000       NaN                 NaN   \n",
       "25%           NaN          NaN       40.000000       NaN                 NaN   \n",
       "50%           NaN          NaN       87.000000       NaN                 NaN   \n",
       "75%           NaN          NaN      200.000000       NaN                 NaN   \n",
       "max           NaN          NaN    22000.000000       NaN                 NaN   \n",
       "\n",
       "       industry         source     stage funds_raised        country  \\\n",
       "count      4147           4146      4144         3688           4147   \n",
       "unique       30           3898        16          718             66   \n",
       "top     Finance  Internal memo  Post-IPO           $1  United States   \n",
       "freq        494            101       943           45           2639   \n",
       "mean        NaN            NaN       NaN          NaN            NaN   \n",
       "std         NaN            NaN       NaN          NaN            NaN   \n",
       "min         NaN            NaN       NaN          NaN            NaN   \n",
       "25%         NaN            NaN       NaN          NaN            NaN   \n",
       "50%         NaN            NaN       NaN          NaN            NaN   \n",
       "75%         NaN            NaN       NaN          NaN            NaN   \n",
       "max         NaN            NaN       NaN          NaN            NaN   \n",
       "\n",
       "        date_added  \n",
       "count         4149  \n",
       "unique         955  \n",
       "top     11/17/2022  \n",
       "freq            45  \n",
       "mean           NaN  \n",
       "std            NaN  \n",
       "min            NaN  \n",
       "25%            NaN  \n",
       "50%            NaN  \n",
       "75%            NaN  \n",
       "max            NaN  "
      ]
     },
     "execution_count": 11,
     "metadata": {},
     "output_type": "execute_result"
    }
   ],
   "source": [
    "df.describe(include = 'all')"
   ]
  },
  {
   "cell_type": "markdown",
   "id": "ca810610-1699-4973-a33e-f08c8b853169",
   "metadata": {},
   "source": [
    "### Checking missing values"
   ]
  },
  {
   "cell_type": "code",
   "execution_count": 12,
   "id": "1f40b046-4039-4ec2-8d29-8fd324f7a587",
   "metadata": {},
   "outputs": [
    {
     "data": {
      "text/plain": [
       "company                   0\n",
       "location                  1\n",
       "total_laid_off         1446\n",
       "date                      0\n",
       "percentage_laid_off    1516\n",
       "industry                  2\n",
       "source                    3\n",
       "stage                     5\n",
       "funds_raised            461\n",
       "country                   2\n",
       "date_added                0\n",
       "dtype: int64"
      ]
     },
     "execution_count": 12,
     "metadata": {},
     "output_type": "execute_result"
    }
   ],
   "source": [
    "df.isnull().sum()"
   ]
  },
  {
   "cell_type": "code",
   "execution_count": 13,
   "id": "4a3bb7b2-ddc1-4ee2-8d91-7bd222f7605d",
   "metadata": {},
   "outputs": [
    {
     "data": {
      "text/plain": [
       "<Axes: >"
      ]
     },
     "execution_count": 13,
     "metadata": {},
     "output_type": "execute_result"
    },
    {
     "data": {
      "image/png": "[encoded data removed]",
      "text/plain": [
       "<Figure size 640x480 with 1 Axes>"
      ]
     },
     "metadata": {},
     "output_type": "display_data"
    }
   ],
   "source": [
    "sns.heatmap(df.isnull(), yticklabels = False, cbar = False, cmap = 'viridis')"
   ]
  },
  {
   "cell_type": "code",
   "execution_count": 14,
   "id": "c48763b6-2e7d-4ace-9b9f-9920f1e12fd0",
   "metadata": {},
   "outputs": [
    {
     "data": {
      "text/plain": [
       "np.int64(0)"
      ]
     },
     "execution_count": 14,
     "metadata": {},
     "output_type": "execute_result"
    }
   ],
   "source": [
    "# Check duplicates\n",
    "df.duplicated().sum()"
   ]
  },
  {
   "cell_type": "markdown",
   "id": "81d6a562-a2f8-4426-b44a-92929af5f971",
   "metadata": {},
   "source": [
    "## Data Standardization"
   ]
  },
  {
   "cell_type": "code",
   "execution_count": 15,
   "id": "86b67f74-8ea4-4227-825c-2effcf372925",
   "metadata": {},
   "outputs": [
    {
     "name": "stdout",
     "output_type": "stream",
     "text": [
      "<class 'pandas.core.frame.DataFrame'>\n",
      "RangeIndex: 4149 entries, 0 to 4148\n",
      "Data columns (total 11 columns):\n",
      " #   Column               Non-Null Count  Dtype  \n",
      "---  ------               --------------  -----  \n",
      " 0   company              4149 non-null   object \n",
      " 1   location             4148 non-null   object \n",
      " 2   total_laid_off       2703 non-null   float64\n",
      " 3   date                 4149 non-null   object \n",
      " 4   percentage_laid_off  2633 non-null   object \n",
      " 5   industry             4147 non-null   object \n",
      " 6   source               4146 non-null   object \n",
      " 7   stage                4144 non-null   object \n",
      " 8   funds_raised         3688 non-null   object \n",
      " 9   country              4147 non-null   object \n",
      " 10  date_added           4149 non-null   object \n",
      "dtypes: float64(1), object(10)\n",
      "memory usage: 356.7+ KB\n"
     ]
    }
   ],
   "source": [
    "df.info()"
   ]
  },
  {
   "cell_type": "code",
   "execution_count": 16,
   "id": "6792f472-ca3b-41c5-8f1a-c634d32f9afc",
   "metadata": {},
   "outputs": [],
   "source": [
    "df['date'] = pd.to_datetime(df['date'], errors = 'coerce')"
   ]
  },
  {
   "cell_type": "code",
   "execution_count": 17,
   "id": "15ab451e-97b6-4829-b5d0-a479b86a33a9",
   "metadata": {},
   "outputs": [],
   "source": [
    "df['date'] = df['date'].astype('datetime64[ns]')"
   ]
  },
  {
   "cell_type": "code",
   "execution_count": 18,
   "id": "5eb069c3-7af9-4921-90f2-7d86a0e903ba",
   "metadata": {},
   "outputs": [
    {
     "data": {
      "text/plain": [
       "dtype('<M8[ns]')"
      ]
     },
     "execution_count": 18,
     "metadata": {},
     "output_type": "execute_result"
    }
   ],
   "source": [
    "df['date'].dtype"
   ]
  },
  {
   "cell_type": "code",
   "execution_count": 19,
   "id": "ebdd9519-9882-4768-a5cf-7fca48eaf6e2",
   "metadata": {},
   "outputs": [
    {
     "data": {
      "text/plain": [
       "company                   0\n",
       "location                  1\n",
       "total_laid_off         1446\n",
       "date                      0\n",
       "percentage_laid_off    1516\n",
       "industry                  2\n",
       "source                    3\n",
       "stage                     5\n",
       "funds_raised            461\n",
       "country                   2\n",
       "date_added                0\n",
       "dtype: int64"
      ]
     },
     "execution_count": 19,
     "metadata": {},
     "output_type": "execute_result"
    }
   ],
   "source": [
    "df.isnull().sum()"
   ]
  },
  {
   "cell_type": "code",
   "execution_count": 20,
   "id": "e9cbdeff-2dd4-4a52-a885-3624f388b9df",
   "metadata": {},
   "outputs": [
    {
     "data": {
      "text/plain": [
       "array([nan, '100%', '9%', '2%', '23%', '10%', '12%', '6%', '34%', '16%',\n",
       "       '40%', '7%', '14%', '3%', '25%', '4%', '1%', '30%', '17%', '20%'],\n",
       "      dtype=object)"
      ]
     },
     "execution_count": 20,
     "metadata": {},
     "output_type": "execute_result"
    }
   ],
   "source": [
    "df['percentage_laid_off'].unique()[:20]"
   ]
  },
  {
   "cell_type": "code",
   "execution_count": 21,
   "id": "9d08bfe6-0a66-4d5b-8cdf-59f5c661b406",
   "metadata": {},
   "outputs": [],
   "source": [
    "df['percentage_laid_off'] = df['percentage_laid_off'].astype(str).str.replace('%', '', regex = True)"
   ]
  },
  {
   "cell_type": "code",
   "execution_count": 22,
   "id": "70bf5a11-65aa-43b4-8928-30b808a6c84c",
   "metadata": {},
   "outputs": [],
   "source": [
    "df['percentage_laid_off'] = df['percentage_laid_off'].fillna(0).astype('float')"
   ]
  },
  {
   "cell_type": "code",
   "execution_count": 23,
   "id": "b5272e74-6216-4191-837e-80956247dc59",
   "metadata": {},
   "outputs": [
    {
     "data": {
      "text/plain": [
       "dtype('float64')"
      ]
     },
     "execution_count": 23,
     "metadata": {},
     "output_type": "execute_result"
    }
   ],
   "source": [
    "df['percentage_laid_off'].dtype"
   ]
  },
  {
   "cell_type": "code",
   "execution_count": 24,
   "id": "0e89cc1d-2c7d-49a0-bd35-a3f56ef73025",
   "metadata": {},
   "outputs": [
    {
     "data": {
      "text/plain": [
       "array(['$75', '$375', '$304', '$65', '$294', '$3500', '$778', '$19', nan,\n",
       "       '$2', '$548', '$127', '$164', '$26', '$166', '$736', '$1900',\n",
       "       '$436', '$243', '$15', '$140', '$210', '$565', '$3000', '$726',\n",
       "       '$9', '$5200', '$8100', '$5', '$602'], dtype=object)"
      ]
     },
     "execution_count": 24,
     "metadata": {},
     "output_type": "execute_result"
    }
   ],
   "source": [
    "df['funds_raised'].unique()[:30]"
   ]
  },
  {
   "cell_type": "code",
   "execution_count": 25,
   "id": "8c1a14e9-440a-4b93-b0ea-6814b6dcb135",
   "metadata": {},
   "outputs": [],
   "source": [
    "df['funds_raised'] = df['funds_raised'].astype(str).str.replace('$','')"
   ]
  },
  {
   "cell_type": "code",
   "execution_count": 26,
   "id": "8b4fe568-3438-47cf-8ecd-b376d2d15089",
   "metadata": {},
   "outputs": [
    {
     "data": {
      "text/plain": [
       "array(['75', '375', '304', '65', '294', '3500', '778', '19', 'nan', '2',\n",
       "       '548', '127', '164', '26', '166', '736', '1900', '436', '243',\n",
       "       '15', '140', '210', '565', '3000', '726', '9', '5200', '8100', '5',\n",
       "       '602'], dtype=object)"
      ]
     },
     "execution_count": 26,
     "metadata": {},
     "output_type": "execute_result"
    }
   ],
   "source": [
    "df['funds_raised'].unique()[:30]"
   ]
  },
  {
   "cell_type": "code",
   "execution_count": 27,
   "id": "f80b3a31-dc0c-4cbb-ae0e-229e4fcc04ef",
   "metadata": {},
   "outputs": [],
   "source": [
    "df['funds_raised'] = df['funds_raised'].fillna(0).astype('float')"
   ]
  },
  {
   "cell_type": "code",
   "execution_count": 28,
   "id": "3ccd36f8-3b86-4c58-8134-9ec9c634e686",
   "metadata": {},
   "outputs": [
    {
     "data": {
      "text/plain": [
       "dtype('float64')"
      ]
     },
     "execution_count": 28,
     "metadata": {},
     "output_type": "execute_result"
    }
   ],
   "source": [
    "df['funds_raised'].dtype"
   ]
  },
  {
   "cell_type": "code",
   "execution_count": 29,
   "id": "0d12fb24-eca8-4e7f-9836-37dcb20509b8",
   "metadata": {},
   "outputs": [
    {
     "name": "stdout",
     "output_type": "stream",
     "text": [
      "<class 'pandas.core.frame.DataFrame'>\n",
      "RangeIndex: 4149 entries, 0 to 4148\n",
      "Data columns (total 11 columns):\n",
      " #   Column               Non-Null Count  Dtype         \n",
      "---  ------               --------------  -----         \n",
      " 0   company              4149 non-null   object        \n",
      " 1   location             4148 non-null   object        \n",
      " 2   total_laid_off       2703 non-null   float64       \n",
      " 3   date                 4149 non-null   datetime64[ns]\n",
      " 4   percentage_laid_off  2633 non-null   float64       \n",
      " 5   industry             4147 non-null   object        \n",
      " 6   source               4146 non-null   object        \n",
      " 7   stage                4144 non-null   object        \n",
      " 8   funds_raised         3688 non-null   float64       \n",
      " 9   country              4147 non-null   object        \n",
      " 10  date_added           4149 non-null   object        \n",
      "dtypes: datetime64[ns](1), float64(3), object(7)\n",
      "memory usage: 356.7+ KB\n"
     ]
    }
   ],
   "source": [
    "df.info()"
   ]
  },
  {
   "cell_type": "code",
   "execution_count": 30,
   "id": "4baee4e0-e0d3-4d75-8f2f-44695231be22",
   "metadata": {},
   "outputs": [
    {
     "data": {
      "text/html": [
       "<div>\n",
       "<style scoped>\n",
       "    .dataframe tbody tr th:only-of-type {\n",
       "        vertical-align: middle;\n",
       "    }\n",
       "\n",
       "    .dataframe tbody tr th {\n",
       "        vertical-align: top;\n",
       "    }\n",
       "\n",
       "    .dataframe thead th {\n",
       "        text-align: right;\n",
       "    }\n",
       "</style>\n",
       "<table border=\"1\" class=\"dataframe\">\n",
       "  <thead>\n",
       "    <tr style=\"text-align: right;\">\n",
       "      <th></th>\n",
       "      <th>company</th>\n",
       "      <th>location</th>\n",
       "      <th>total_laid_off</th>\n",
       "      <th>date</th>\n",
       "      <th>percentage_laid_off</th>\n",
       "      <th>industry</th>\n",
       "      <th>source</th>\n",
       "      <th>stage</th>\n",
       "      <th>funds_raised</th>\n",
       "      <th>country</th>\n",
       "      <th>date_added</th>\n",
       "    </tr>\n",
       "  </thead>\n",
       "  <tbody>\n",
       "    <tr>\n",
       "      <th>0</th>\n",
       "      <td>Games 24x7</td>\n",
       "      <td>Mumbai,Non-U.S.</td>\n",
       "      <td>400.0</td>\n",
       "      <td>2025-09-01</td>\n",
       "      <td>NaN</td>\n",
       "      <td>Consumer</td>\n",
       "      <td>https://www.peoplematters.in/news/strategic-hr...</td>\n",
       "      <td>Unknown</td>\n",
       "      <td>75.0</td>\n",
       "      <td>India</td>\n",
       "      <td>9/2/2025</td>\n",
       "    </tr>\n",
       "    <tr>\n",
       "      <th>1</th>\n",
       "      <td>Mobile Premier League</td>\n",
       "      <td>Bengaluru,Non-U.S.</td>\n",
       "      <td>300.0</td>\n",
       "      <td>2025-09-01</td>\n",
       "      <td>NaN</td>\n",
       "      <td>Consumer</td>\n",
       "      <td>https://timesofindia.indiatimes.com/technology...</td>\n",
       "      <td>Series E</td>\n",
       "      <td>375.0</td>\n",
       "      <td>India</td>\n",
       "      <td>9/2/2025</td>\n",
       "    </tr>\n",
       "    <tr>\n",
       "      <th>2</th>\n",
       "      <td>Krutrim</td>\n",
       "      <td>Bengaluru,Non-U.S.</td>\n",
       "      <td>50.0</td>\n",
       "      <td>2025-09-01</td>\n",
       "      <td>NaN</td>\n",
       "      <td>AI</td>\n",
       "      <td>https://www.techinasia.com/news/olas-krutrim-c...</td>\n",
       "      <td>Unknown</td>\n",
       "      <td>304.0</td>\n",
       "      <td>India</td>\n",
       "      <td>9/2/2025</td>\n",
       "    </tr>\n",
       "    <tr>\n",
       "      <th>3</th>\n",
       "      <td>Salesforce</td>\n",
       "      <td>SF Bay Area</td>\n",
       "      <td>4000.0</td>\n",
       "      <td>2025-08-31</td>\n",
       "      <td>NaN</td>\n",
       "      <td>Sales</td>\n",
       "      <td>https://www.businessinsider.com/marc-benioff-s...</td>\n",
       "      <td>Post-IPO</td>\n",
       "      <td>65.0</td>\n",
       "      <td>United States</td>\n",
       "      <td>9/2/2025</td>\n",
       "    </tr>\n",
       "    <tr>\n",
       "      <th>4</th>\n",
       "      <td>Flip</td>\n",
       "      <td>SF Bay Area</td>\n",
       "      <td>NaN</td>\n",
       "      <td>2025-08-29</td>\n",
       "      <td>100.0</td>\n",
       "      <td>Consumer</td>\n",
       "      <td>https://www.sfgate.com/tech/article/flip-start...</td>\n",
       "      <td>Series C</td>\n",
       "      <td>294.0</td>\n",
       "      <td>United States</td>\n",
       "      <td>8/30/2025</td>\n",
       "    </tr>\n",
       "  </tbody>\n",
       "</table>\n",
       "</div>"
      ],
      "text/plain": [
       "                 company            location  total_laid_off       date  \\\n",
       "0             Games 24x7     Mumbai,Non-U.S.           400.0 2025-09-01   \n",
       "1  Mobile Premier League  Bengaluru,Non-U.S.           300.0 2025-09-01   \n",
       "2                Krutrim  Bengaluru,Non-U.S.            50.0 2025-09-01   \n",
       "3             Salesforce         SF Bay Area          4000.0 2025-08-31   \n",
       "4                   Flip         SF Bay Area             NaN 2025-08-29   \n",
       "\n",
       "   percentage_laid_off  industry  \\\n",
       "0                  NaN  Consumer   \n",
       "1                  NaN  Consumer   \n",
       "2                  NaN        AI   \n",
       "3                  NaN     Sales   \n",
       "4                100.0  Consumer   \n",
       "\n",
       "                                              source     stage  funds_raised  \\\n",
       "0  https://www.peoplematters.in/news/strategic-hr...   Unknown          75.0   \n",
       "1  https://timesofindia.indiatimes.com/technology...  Series E         375.0   \n",
       "2  https://www.techinasia.com/news/olas-krutrim-c...   Unknown         304.0   \n",
       "3  https://www.businessinsider.com/marc-benioff-s...  Post-IPO          65.0   \n",
       "4  https://www.sfgate.com/tech/article/flip-start...  Series C         294.0   \n",
       "\n",
       "         country date_added  \n",
       "0          India   9/2/2025  \n",
       "1          India   9/2/2025  \n",
       "2          India   9/2/2025  \n",
       "3  United States   9/2/2025  \n",
       "4  United States  8/30/2025  "
      ]
     },
     "execution_count": 30,
     "metadata": {},
     "output_type": "execute_result"
    }
   ],
   "source": [
    "df.head(5)"
   ]
  },
  {
   "cell_type": "code",
   "execution_count": 31,
   "id": "da9191ef-18bd-4db2-a65b-4780b472b9a4",
   "metadata": {},
   "outputs": [],
   "source": [
    "categorical_cols = ['company','industry','location','stage','source','country']"
   ]
  },
  {
   "cell_type": "code",
   "execution_count": 32,
   "id": "ee141470-5ca5-4c8f-a6bb-8b044e76a270",
   "metadata": {},
   "outputs": [],
   "source": [
    "for col in categorical_cols:\n",
    "    df[col] = df[col].apply(lambda x: x.strip() if isinstance(x, str) else x)"
   ]
  },
  {
   "cell_type": "code",
   "execution_count": 33,
   "id": "d397962a-b5df-4f64-909a-fa372c7cbab5",
   "metadata": {},
   "outputs": [],
   "source": [
    "for col in categorical_cols:\n",
    "    df[col] = df[col].apply(lambda x: x.title() if isinstance(x, str) else x)"
   ]
  },
  {
   "cell_type": "code",
   "execution_count": 34,
   "id": "79655d26-a8e3-45c4-ab48-50fe136f5b8d",
   "metadata": {},
   "outputs": [
    {
     "data": {
      "text/html": [
       "<div>\n",
       "<style scoped>\n",
       "    .dataframe tbody tr th:only-of-type {\n",
       "        vertical-align: middle;\n",
       "    }\n",
       "\n",
       "    .dataframe tbody tr th {\n",
       "        vertical-align: top;\n",
       "    }\n",
       "\n",
       "    .dataframe thead th {\n",
       "        text-align: right;\n",
       "    }\n",
       "</style>\n",
       "<table border=\"1\" class=\"dataframe\">\n",
       "  <thead>\n",
       "    <tr style=\"text-align: right;\">\n",
       "      <th></th>\n",
       "      <th>company</th>\n",
       "      <th>location</th>\n",
       "      <th>total_laid_off</th>\n",
       "      <th>date</th>\n",
       "      <th>percentage_laid_off</th>\n",
       "      <th>industry</th>\n",
       "      <th>source</th>\n",
       "      <th>stage</th>\n",
       "      <th>funds_raised</th>\n",
       "      <th>country</th>\n",
       "      <th>date_added</th>\n",
       "    </tr>\n",
       "  </thead>\n",
       "  <tbody>\n",
       "    <tr>\n",
       "      <th>0</th>\n",
       "      <td>Games 24X7</td>\n",
       "      <td>Mumbai,Non-U.S.</td>\n",
       "      <td>400.0</td>\n",
       "      <td>2025-09-01</td>\n",
       "      <td>NaN</td>\n",
       "      <td>Consumer</td>\n",
       "      <td>Https://Www.Peoplematters.In/News/Strategic-Hr...</td>\n",
       "      <td>Unknown</td>\n",
       "      <td>75.0</td>\n",
       "      <td>India</td>\n",
       "      <td>9/2/2025</td>\n",
       "    </tr>\n",
       "    <tr>\n",
       "      <th>1</th>\n",
       "      <td>Mobile Premier League</td>\n",
       "      <td>Bengaluru,Non-U.S.</td>\n",
       "      <td>300.0</td>\n",
       "      <td>2025-09-01</td>\n",
       "      <td>NaN</td>\n",
       "      <td>Consumer</td>\n",
       "      <td>Https://Timesofindia.Indiatimes.Com/Technology...</td>\n",
       "      <td>Series E</td>\n",
       "      <td>375.0</td>\n",
       "      <td>India</td>\n",
       "      <td>9/2/2025</td>\n",
       "    </tr>\n",
       "  </tbody>\n",
       "</table>\n",
       "</div>"
      ],
      "text/plain": [
       "                 company            location  total_laid_off       date  \\\n",
       "0             Games 24X7     Mumbai,Non-U.S.           400.0 2025-09-01   \n",
       "1  Mobile Premier League  Bengaluru,Non-U.S.           300.0 2025-09-01   \n",
       "\n",
       "   percentage_laid_off  industry  \\\n",
       "0                  NaN  Consumer   \n",
       "1                  NaN  Consumer   \n",
       "\n",
       "                                              source     stage  funds_raised  \\\n",
       "0  Https://Www.Peoplematters.In/News/Strategic-Hr...   Unknown          75.0   \n",
       "1  Https://Timesofindia.Indiatimes.Com/Technology...  Series E         375.0   \n",
       "\n",
       "  country date_added  \n",
       "0   India   9/2/2025  \n",
       "1   India   9/2/2025  "
      ]
     },
     "execution_count": 34,
     "metadata": {},
     "output_type": "execute_result"
    }
   ],
   "source": [
    "df.head(2)"
   ]
  },
  {
   "cell_type": "code",
   "execution_count": 35,
   "id": "ea38aefe-6bc8-4b38-af33-d8282877fb91",
   "metadata": {},
   "outputs": [
    {
     "data": {
      "text/plain": [
       "array(['Mumbai,Non-U.S.', 'Bengaluru,Non-U.S.', 'Sf Bay Area', 'Seattle',\n",
       "       'Boston', 'London,Non-U.S.', 'Los Angeles', 'Toronto,Non-U.S.',\n",
       "       'St. Louis', 'Tokyo,Non-U.S.', 'New York City', 'Sydney,Non-U.S.',\n",
       "       'Cologne,Non-U.S.', 'Bengaluru', 'Detroit', 'Raleigh',\n",
       "       'Minneapolis', 'Stockholm,Non-U.S.', 'Sacramento', 'Austin'],\n",
       "      dtype=object)"
      ]
     },
     "execution_count": 35,
     "metadata": {},
     "output_type": "execute_result"
    }
   ],
   "source": [
    "df['location'].unique()[:20]"
   ]
  },
  {
   "cell_type": "code",
   "execution_count": 36,
   "id": "4efc005e-6cf7-49d8-8b0e-778745e5aaab",
   "metadata": {},
   "outputs": [],
   "source": [
    "df['location'] = df['location'].str.split(',', n = 1, expand = True)[0].str.strip()"
   ]
  },
  {
   "cell_type": "code",
   "execution_count": 37,
   "id": "8b62a551-adea-47c0-9b75-ede35524ba06",
   "metadata": {},
   "outputs": [
    {
     "data": {
      "text/html": [
       "<div>\n",
       "<style scoped>\n",
       "    .dataframe tbody tr th:only-of-type {\n",
       "        vertical-align: middle;\n",
       "    }\n",
       "\n",
       "    .dataframe tbody tr th {\n",
       "        vertical-align: top;\n",
       "    }\n",
       "\n",
       "    .dataframe thead th {\n",
       "        text-align: right;\n",
       "    }\n",
       "</style>\n",
       "<table border=\"1\" class=\"dataframe\">\n",
       "  <thead>\n",
       "    <tr style=\"text-align: right;\">\n",
       "      <th></th>\n",
       "      <th>company</th>\n",
       "      <th>location</th>\n",
       "      <th>total_laid_off</th>\n",
       "      <th>date</th>\n",
       "      <th>percentage_laid_off</th>\n",
       "      <th>industry</th>\n",
       "      <th>source</th>\n",
       "      <th>stage</th>\n",
       "      <th>funds_raised</th>\n",
       "      <th>country</th>\n",
       "      <th>date_added</th>\n",
       "    </tr>\n",
       "  </thead>\n",
       "  <tbody>\n",
       "    <tr>\n",
       "      <th>0</th>\n",
       "      <td>Games 24X7</td>\n",
       "      <td>Mumbai</td>\n",
       "      <td>400.0</td>\n",
       "      <td>2025-09-01</td>\n",
       "      <td>NaN</td>\n",
       "      <td>Consumer</td>\n",
       "      <td>Https://Www.Peoplematters.In/News/Strategic-Hr...</td>\n",
       "      <td>Unknown</td>\n",
       "      <td>75.0</td>\n",
       "      <td>India</td>\n",
       "      <td>9/2/2025</td>\n",
       "    </tr>\n",
       "    <tr>\n",
       "      <th>1</th>\n",
       "      <td>Mobile Premier League</td>\n",
       "      <td>Bengaluru</td>\n",
       "      <td>300.0</td>\n",
       "      <td>2025-09-01</td>\n",
       "      <td>NaN</td>\n",
       "      <td>Consumer</td>\n",
       "      <td>Https://Timesofindia.Indiatimes.Com/Technology...</td>\n",
       "      <td>Series E</td>\n",
       "      <td>375.0</td>\n",
       "      <td>India</td>\n",
       "      <td>9/2/2025</td>\n",
       "    </tr>\n",
       "    <tr>\n",
       "      <th>2</th>\n",
       "      <td>Krutrim</td>\n",
       "      <td>Bengaluru</td>\n",
       "      <td>50.0</td>\n",
       "      <td>2025-09-01</td>\n",
       "      <td>NaN</td>\n",
       "      <td>Ai</td>\n",
       "      <td>Https://Www.Techinasia.Com/News/Olas-Krutrim-C...</td>\n",
       "      <td>Unknown</td>\n",
       "      <td>304.0</td>\n",
       "      <td>India</td>\n",
       "      <td>9/2/2025</td>\n",
       "    </tr>\n",
       "    <tr>\n",
       "      <th>3</th>\n",
       "      <td>Salesforce</td>\n",
       "      <td>Sf Bay Area</td>\n",
       "      <td>4000.0</td>\n",
       "      <td>2025-08-31</td>\n",
       "      <td>NaN</td>\n",
       "      <td>Sales</td>\n",
       "      <td>Https://Www.Businessinsider.Com/Marc-Benioff-S...</td>\n",
       "      <td>Post-Ipo</td>\n",
       "      <td>65.0</td>\n",
       "      <td>United States</td>\n",
       "      <td>9/2/2025</td>\n",
       "    </tr>\n",
       "    <tr>\n",
       "      <th>4</th>\n",
       "      <td>Flip</td>\n",
       "      <td>Sf Bay Area</td>\n",
       "      <td>NaN</td>\n",
       "      <td>2025-08-29</td>\n",
       "      <td>100.0</td>\n",
       "      <td>Consumer</td>\n",
       "      <td>Https://Www.Sfgate.Com/Tech/Article/Flip-Start...</td>\n",
       "      <td>Series C</td>\n",
       "      <td>294.0</td>\n",
       "      <td>United States</td>\n",
       "      <td>8/30/2025</td>\n",
       "    </tr>\n",
       "  </tbody>\n",
       "</table>\n",
       "</div>"
      ],
      "text/plain": [
       "                 company     location  total_laid_off       date  \\\n",
       "0             Games 24X7       Mumbai           400.0 2025-09-01   \n",
       "1  Mobile Premier League    Bengaluru           300.0 2025-09-01   \n",
       "2                Krutrim    Bengaluru            50.0 2025-09-01   \n",
       "3             Salesforce  Sf Bay Area          4000.0 2025-08-31   \n",
       "4                   Flip  Sf Bay Area             NaN 2025-08-29   \n",
       "\n",
       "   percentage_laid_off  industry  \\\n",
       "0                  NaN  Consumer   \n",
       "1                  NaN  Consumer   \n",
       "2                  NaN        Ai   \n",
       "3                  NaN     Sales   \n",
       "4                100.0  Consumer   \n",
       "\n",
       "                                              source     stage  funds_raised  \\\n",
       "0  Https://Www.Peoplematters.In/News/Strategic-Hr...   Unknown          75.0   \n",
       "1  Https://Timesofindia.Indiatimes.Com/Technology...  Series E         375.0   \n",
       "2  Https://Www.Techinasia.Com/News/Olas-Krutrim-C...   Unknown         304.0   \n",
       "3  Https://Www.Businessinsider.Com/Marc-Benioff-S...  Post-Ipo          65.0   \n",
       "4  Https://Www.Sfgate.Com/Tech/Article/Flip-Start...  Series C         294.0   \n",
       "\n",
       "         country date_added  \n",
       "0          India   9/2/2025  \n",
       "1          India   9/2/2025  \n",
       "2          India   9/2/2025  \n",
       "3  United States   9/2/2025  \n",
       "4  United States  8/30/2025  "
      ]
     },
     "execution_count": 37,
     "metadata": {},
     "output_type": "execute_result"
    }
   ],
   "source": [
    "df.head(5)"
   ]
  },
  {
   "cell_type": "code",
   "execution_count": 38,
   "id": "ca881805-13a8-4c6b-a837-2a8216fb7324",
   "metadata": {},
   "outputs": [],
   "source": [
    "df.rename(columns =  {'funds_raised': 'funds_raised_millions'}, inplace = True)"
   ]
  },
  {
   "cell_type": "code",
   "execution_count": 39,
   "id": "f27253c5-2377-4c8f-a697-bac4434361f5",
   "metadata": {},
   "outputs": [
    {
     "data": {
      "text/html": [
       "<div>\n",
       "<style scoped>\n",
       "    .dataframe tbody tr th:only-of-type {\n",
       "        vertical-align: middle;\n",
       "    }\n",
       "\n",
       "    .dataframe tbody tr th {\n",
       "        vertical-align: top;\n",
       "    }\n",
       "\n",
       "    .dataframe thead th {\n",
       "        text-align: right;\n",
       "    }\n",
       "</style>\n",
       "<table border=\"1\" class=\"dataframe\">\n",
       "  <thead>\n",
       "    <tr style=\"text-align: right;\">\n",
       "      <th></th>\n",
       "      <th>company</th>\n",
       "      <th>location</th>\n",
       "      <th>total_laid_off</th>\n",
       "      <th>date</th>\n",
       "      <th>percentage_laid_off</th>\n",
       "      <th>industry</th>\n",
       "      <th>source</th>\n",
       "      <th>stage</th>\n",
       "      <th>funds_raised_millions</th>\n",
       "      <th>country</th>\n",
       "      <th>date_added</th>\n",
       "    </tr>\n",
       "  </thead>\n",
       "  <tbody>\n",
       "    <tr>\n",
       "      <th>0</th>\n",
       "      <td>Games 24X7</td>\n",
       "      <td>Mumbai</td>\n",
       "      <td>400.0</td>\n",
       "      <td>2025-09-01</td>\n",
       "      <td>NaN</td>\n",
       "      <td>Consumer</td>\n",
       "      <td>Https://Www.Peoplematters.In/News/Strategic-Hr...</td>\n",
       "      <td>Unknown</td>\n",
       "      <td>75.0</td>\n",
       "      <td>India</td>\n",
       "      <td>9/2/2025</td>\n",
       "    </tr>\n",
       "    <tr>\n",
       "      <th>1</th>\n",
       "      <td>Mobile Premier League</td>\n",
       "      <td>Bengaluru</td>\n",
       "      <td>300.0</td>\n",
       "      <td>2025-09-01</td>\n",
       "      <td>NaN</td>\n",
       "      <td>Consumer</td>\n",
       "      <td>Https://Timesofindia.Indiatimes.Com/Technology...</td>\n",
       "      <td>Series E</td>\n",
       "      <td>375.0</td>\n",
       "      <td>India</td>\n",
       "      <td>9/2/2025</td>\n",
       "    </tr>\n",
       "  </tbody>\n",
       "</table>\n",
       "</div>"
      ],
      "text/plain": [
       "                 company   location  total_laid_off       date  \\\n",
       "0             Games 24X7     Mumbai           400.0 2025-09-01   \n",
       "1  Mobile Premier League  Bengaluru           300.0 2025-09-01   \n",
       "\n",
       "   percentage_laid_off  industry  \\\n",
       "0                  NaN  Consumer   \n",
       "1                  NaN  Consumer   \n",
       "\n",
       "                                              source     stage  \\\n",
       "0  Https://Www.Peoplematters.In/News/Strategic-Hr...   Unknown   \n",
       "1  Https://Timesofindia.Indiatimes.Com/Technology...  Series E   \n",
       "\n",
       "   funds_raised_millions country date_added  \n",
       "0                   75.0   India   9/2/2025  \n",
       "1                  375.0   India   9/2/2025  "
      ]
     },
     "execution_count": 39,
     "metadata": {},
     "output_type": "execute_result"
    }
   ],
   "source": [
    "df.head(2)"
   ]
  },
  {
   "cell_type": "code",
   "execution_count": 40,
   "id": "ad99f927-9863-4716-9035-b0999a7a3fde",
   "metadata": {},
   "outputs": [],
   "source": [
    "df['year'] = df['date'].dt.year"
   ]
  },
  {
   "cell_type": "code",
   "execution_count": 41,
   "id": "e91f5d32-457f-4b82-a817-a85936a7df49",
   "metadata": {},
   "outputs": [],
   "source": [
    "df['month_name'] = df['date'].dt.month_name()"
   ]
  },
  {
   "cell_type": "code",
   "execution_count": 42,
   "id": "02073fc9-561f-4dfb-99bb-57b678536067",
   "metadata": {},
   "outputs": [
    {
     "data": {
      "text/html": [
       "<div>\n",
       "<style scoped>\n",
       "    .dataframe tbody tr th:only-of-type {\n",
       "        vertical-align: middle;\n",
       "    }\n",
       "\n",
       "    .dataframe tbody tr th {\n",
       "        vertical-align: top;\n",
       "    }\n",
       "\n",
       "    .dataframe thead th {\n",
       "        text-align: right;\n",
       "    }\n",
       "</style>\n",
       "<table border=\"1\" class=\"dataframe\">\n",
       "  <thead>\n",
       "    <tr style=\"text-align: right;\">\n",
       "      <th></th>\n",
       "      <th>company</th>\n",
       "      <th>location</th>\n",
       "      <th>total_laid_off</th>\n",
       "      <th>date</th>\n",
       "      <th>percentage_laid_off</th>\n",
       "      <th>industry</th>\n",
       "      <th>source</th>\n",
       "      <th>stage</th>\n",
       "      <th>funds_raised_millions</th>\n",
       "      <th>country</th>\n",
       "      <th>date_added</th>\n",
       "      <th>year</th>\n",
       "      <th>month_name</th>\n",
       "    </tr>\n",
       "  </thead>\n",
       "  <tbody>\n",
       "    <tr>\n",
       "      <th>0</th>\n",
       "      <td>Games 24X7</td>\n",
       "      <td>Mumbai</td>\n",
       "      <td>400.0</td>\n",
       "      <td>2025-09-01</td>\n",
       "      <td>NaN</td>\n",
       "      <td>Consumer</td>\n",
       "      <td>Https://Www.Peoplematters.In/News/Strategic-Hr...</td>\n",
       "      <td>Unknown</td>\n",
       "      <td>75.0</td>\n",
       "      <td>India</td>\n",
       "      <td>9/2/2025</td>\n",
       "      <td>2025</td>\n",
       "      <td>September</td>\n",
       "    </tr>\n",
       "    <tr>\n",
       "      <th>1</th>\n",
       "      <td>Mobile Premier League</td>\n",
       "      <td>Bengaluru</td>\n",
       "      <td>300.0</td>\n",
       "      <td>2025-09-01</td>\n",
       "      <td>NaN</td>\n",
       "      <td>Consumer</td>\n",
       "      <td>Https://Timesofindia.Indiatimes.Com/Technology...</td>\n",
       "      <td>Series E</td>\n",
       "      <td>375.0</td>\n",
       "      <td>India</td>\n",
       "      <td>9/2/2025</td>\n",
       "      <td>2025</td>\n",
       "      <td>September</td>\n",
       "    </tr>\n",
       "    <tr>\n",
       "      <th>2</th>\n",
       "      <td>Krutrim</td>\n",
       "      <td>Bengaluru</td>\n",
       "      <td>50.0</td>\n",
       "      <td>2025-09-01</td>\n",
       "      <td>NaN</td>\n",
       "      <td>Ai</td>\n",
       "      <td>Https://Www.Techinasia.Com/News/Olas-Krutrim-C...</td>\n",
       "      <td>Unknown</td>\n",
       "      <td>304.0</td>\n",
       "      <td>India</td>\n",
       "      <td>9/2/2025</td>\n",
       "      <td>2025</td>\n",
       "      <td>September</td>\n",
       "    </tr>\n",
       "    <tr>\n",
       "      <th>3</th>\n",
       "      <td>Salesforce</td>\n",
       "      <td>Sf Bay Area</td>\n",
       "      <td>4000.0</td>\n",
       "      <td>2025-08-31</td>\n",
       "      <td>NaN</td>\n",
       "      <td>Sales</td>\n",
       "      <td>Https://Www.Businessinsider.Com/Marc-Benioff-S...</td>\n",
       "      <td>Post-Ipo</td>\n",
       "      <td>65.0</td>\n",
       "      <td>United States</td>\n",
       "      <td>9/2/2025</td>\n",
       "      <td>2025</td>\n",
       "      <td>August</td>\n",
       "    </tr>\n",
       "    <tr>\n",
       "      <th>4</th>\n",
       "      <td>Flip</td>\n",
       "      <td>Sf Bay Area</td>\n",
       "      <td>NaN</td>\n",
       "      <td>2025-08-29</td>\n",
       "      <td>100.0</td>\n",
       "      <td>Consumer</td>\n",
       "      <td>Https://Www.Sfgate.Com/Tech/Article/Flip-Start...</td>\n",
       "      <td>Series C</td>\n",
       "      <td>294.0</td>\n",
       "      <td>United States</td>\n",
       "      <td>8/30/2025</td>\n",
       "      <td>2025</td>\n",
       "      <td>August</td>\n",
       "    </tr>\n",
       "  </tbody>\n",
       "</table>\n",
       "</div>"
      ],
      "text/plain": [
       "                 company     location  total_laid_off       date  \\\n",
       "0             Games 24X7       Mumbai           400.0 2025-09-01   \n",
       "1  Mobile Premier League    Bengaluru           300.0 2025-09-01   \n",
       "2                Krutrim    Bengaluru            50.0 2025-09-01   \n",
       "3             Salesforce  Sf Bay Area          4000.0 2025-08-31   \n",
       "4                   Flip  Sf Bay Area             NaN 2025-08-29   \n",
       "\n",
       "   percentage_laid_off  industry  \\\n",
       "0                  NaN  Consumer   \n",
       "1                  NaN  Consumer   \n",
       "2                  NaN        Ai   \n",
       "3                  NaN     Sales   \n",
       "4                100.0  Consumer   \n",
       "\n",
       "                                              source     stage  \\\n",
       "0  Https://Www.Peoplematters.In/News/Strategic-Hr...   Unknown   \n",
       "1  Https://Timesofindia.Indiatimes.Com/Technology...  Series E   \n",
       "2  Https://Www.Techinasia.Com/News/Olas-Krutrim-C...   Unknown   \n",
       "3  Https://Www.Businessinsider.Com/Marc-Benioff-S...  Post-Ipo   \n",
       "4  Https://Www.Sfgate.Com/Tech/Article/Flip-Start...  Series C   \n",
       "\n",
       "   funds_raised_millions        country date_added  year month_name  \n",
       "0                   75.0          India   9/2/2025  2025  September  \n",
       "1                  375.0          India   9/2/2025  2025  September  \n",
       "2                  304.0          India   9/2/2025  2025  September  \n",
       "3                   65.0  United States   9/2/2025  2025     August  \n",
       "4                  294.0  United States  8/30/2025  2025     August  "
      ]
     },
     "execution_count": 42,
     "metadata": {},
     "output_type": "execute_result"
    }
   ],
   "source": [
    "df.head(5)"
   ]
  },
  {
   "cell_type": "markdown",
   "id": "77d83e98-70b9-4e6b-a62c-1611d7969982",
   "metadata": {},
   "source": [
    "# Handling Missing Values"
   ]
  },
  {
   "cell_type": "code",
   "execution_count": 43,
   "id": "dacb9ba3-d286-4635-b630-2453040cbbc6",
   "metadata": {},
   "outputs": [
    {
     "data": {
      "text/plain": [
       "company                     0\n",
       "location                    1\n",
       "total_laid_off           1446\n",
       "date                        0\n",
       "percentage_laid_off      1516\n",
       "industry                    2\n",
       "source                      3\n",
       "stage                       5\n",
       "funds_raised_millions     461\n",
       "country                     2\n",
       "date_added                  0\n",
       "year                        0\n",
       "month_name                  0\n",
       "dtype: int64"
      ]
     },
     "execution_count": 43,
     "metadata": {},
     "output_type": "execute_result"
    }
   ],
   "source": [
    "df.isnull().sum()"
   ]
  },
  {
   "cell_type": "code",
   "execution_count": 44,
   "id": "de919adc-aff4-4178-85a4-24a9426ec8e4",
   "metadata": {},
   "outputs": [
    {
     "data": {
      "text/plain": [
       "<Axes: >"
      ]
     },
     "execution_count": 44,
     "metadata": {},
     "output_type": "execute_result"
    },
    {
     "data": {
      "image/png": "[encoded data removed]",
      "text/plain": [
       "<Figure size 640x480 with 1 Axes>"
      ]
     },
     "metadata": {},
     "output_type": "display_data"
    }
   ],
   "source": [
    "sns.heatmap(df.isnull(), yticklabels = False, cbar = False, cmap = 'viridis')"
   ]
  },
  {
   "cell_type": "code",
   "execution_count": 45,
   "id": "5630cf94-d031-49a0-af7a-3b5c40151030",
   "metadata": {},
   "outputs": [],
   "source": [
    "df['source'] = df['source'].fillna('unknown')"
   ]
  },
  {
   "cell_type": "code",
   "execution_count": 46,
   "id": "458a568f-45d9-465b-8a1e-7925e2900a92",
   "metadata": {},
   "outputs": [],
   "source": [
    "df['stage'] = df['stage'].fillna('unknown')"
   ]
  },
  {
   "cell_type": "code",
   "execution_count": 47,
   "id": "f140f4c8-5c59-4c4c-9cec-7c4c0d877396",
   "metadata": {},
   "outputs": [
    {
     "data": {
      "text/plain": [
       "company                     0\n",
       "location                    1\n",
       "total_laid_off           1446\n",
       "date                        0\n",
       "percentage_laid_off      1516\n",
       "industry                    2\n",
       "source                      0\n",
       "stage                       0\n",
       "funds_raised_millions     461\n",
       "country                     2\n",
       "date_added                  0\n",
       "year                        0\n",
       "month_name                  0\n",
       "dtype: int64"
      ]
     },
     "execution_count": 47,
     "metadata": {},
     "output_type": "execute_result"
    }
   ],
   "source": [
    "df.isnull().sum()"
   ]
  },
  {
   "cell_type": "code",
   "execution_count": 48,
   "id": "371416aa-198e-4f99-8c99-c1fc1a6a1744",
   "metadata": {},
   "outputs": [],
   "source": [
    "df['funds_raised_millions'] = df['funds_raised_millions'].fillna(0)"
   ]
  },
  {
   "cell_type": "code",
   "execution_count": 49,
   "id": "82c3e06d-c70e-45cb-be46-9e7307067568",
   "metadata": {},
   "outputs": [
    {
     "data": {
      "text/plain": [
       "np.int64(0)"
      ]
     },
     "execution_count": 49,
     "metadata": {},
     "output_type": "execute_result"
    }
   ],
   "source": [
    "df['funds_raised_millions'].isnull().sum()"
   ]
  },
  {
   "cell_type": "code",
   "execution_count": 50,
   "id": "d2951653-0c3d-4327-b79e-c9a8c4bab95b",
   "metadata": {},
   "outputs": [
    {
     "data": {
      "text/html": [
       "<div>\n",
       "<style scoped>\n",
       "    .dataframe tbody tr th:only-of-type {\n",
       "        vertical-align: middle;\n",
       "    }\n",
       "\n",
       "    .dataframe tbody tr th {\n",
       "        vertical-align: top;\n",
       "    }\n",
       "\n",
       "    .dataframe thead th {\n",
       "        text-align: right;\n",
       "    }\n",
       "</style>\n",
       "<table border=\"1\" class=\"dataframe\">\n",
       "  <thead>\n",
       "    <tr style=\"text-align: right;\">\n",
       "      <th></th>\n",
       "      <th>company</th>\n",
       "      <th>industry</th>\n",
       "    </tr>\n",
       "  </thead>\n",
       "  <tbody>\n",
       "    <tr>\n",
       "      <th>30</th>\n",
       "      <td>Eyeo</td>\n",
       "      <td>NaN</td>\n",
       "    </tr>\n",
       "    <tr>\n",
       "      <th>1081</th>\n",
       "      <td>Appsmith</td>\n",
       "      <td>NaN</td>\n",
       "    </tr>\n",
       "  </tbody>\n",
       "</table>\n",
       "</div>"
      ],
      "text/plain": [
       "       company industry\n",
       "30        Eyeo      NaN\n",
       "1081  Appsmith      NaN"
      ]
     },
     "execution_count": 50,
     "metadata": {},
     "output_type": "execute_result"
    }
   ],
   "source": [
    "df[df['industry'].isnull()][['company','industry']]"
   ]
  },
  {
   "cell_type": "code",
   "execution_count": 51,
   "id": "efc62a6f-df35-47b3-bd61-bb2a2e4974e3",
   "metadata": {},
   "outputs": [
    {
     "data": {
      "text/html": [
       "<div>\n",
       "<style scoped>\n",
       "    .dataframe tbody tr th:only-of-type {\n",
       "        vertical-align: middle;\n",
       "    }\n",
       "\n",
       "    .dataframe tbody tr th {\n",
       "        vertical-align: top;\n",
       "    }\n",
       "\n",
       "    .dataframe thead th {\n",
       "        text-align: right;\n",
       "    }\n",
       "</style>\n",
       "<table border=\"1\" class=\"dataframe\">\n",
       "  <thead>\n",
       "    <tr style=\"text-align: right;\">\n",
       "      <th></th>\n",
       "      <th>company</th>\n",
       "      <th>industry</th>\n",
       "    </tr>\n",
       "  </thead>\n",
       "  <tbody>\n",
       "    <tr>\n",
       "      <th>30</th>\n",
       "      <td>Eyeo</td>\n",
       "      <td>NaN</td>\n",
       "    </tr>\n",
       "  </tbody>\n",
       "</table>\n",
       "</div>"
      ],
      "text/plain": [
       "   company industry\n",
       "30    Eyeo      NaN"
      ]
     },
     "execution_count": 51,
     "metadata": {},
     "output_type": "execute_result"
    }
   ],
   "source": [
    "df[df['company'] == 'Eyeo'][['company','industry']].head()"
   ]
  },
  {
   "cell_type": "code",
   "execution_count": 52,
   "id": "19a8279f-ff14-4227-ae93-5b3ab835d84d",
   "metadata": {},
   "outputs": [
    {
     "data": {
      "text/html": [
       "<div>\n",
       "<style scoped>\n",
       "    .dataframe tbody tr th:only-of-type {\n",
       "        vertical-align: middle;\n",
       "    }\n",
       "\n",
       "    .dataframe tbody tr th {\n",
       "        vertical-align: top;\n",
       "    }\n",
       "\n",
       "    .dataframe thead th {\n",
       "        text-align: right;\n",
       "    }\n",
       "</style>\n",
       "<table border=\"1\" class=\"dataframe\">\n",
       "  <thead>\n",
       "    <tr style=\"text-align: right;\">\n",
       "      <th></th>\n",
       "      <th>company</th>\n",
       "      <th>industry</th>\n",
       "    </tr>\n",
       "  </thead>\n",
       "  <tbody>\n",
       "    <tr>\n",
       "      <th>1081</th>\n",
       "      <td>Appsmith</td>\n",
       "      <td>NaN</td>\n",
       "    </tr>\n",
       "  </tbody>\n",
       "</table>\n",
       "</div>"
      ],
      "text/plain": [
       "       company industry\n",
       "1081  Appsmith      NaN"
      ]
     },
     "execution_count": 52,
     "metadata": {},
     "output_type": "execute_result"
    }
   ],
   "source": [
    "df[df['company'] == 'Appsmith'][['company','industry']].head()"
   ]
  },
  {
   "cell_type": "code",
   "execution_count": 53,
   "id": "5adecdff-2ad0-42a3-8ac6-b5399407e5eb",
   "metadata": {},
   "outputs": [],
   "source": [
    "df.loc[df['company'] == 'Eyeo', 'industry'] = 'Software'"
   ]
  },
  {
   "cell_type": "code",
   "execution_count": 54,
   "id": "1c030492-4fed-4320-a094-1db71f29b69d",
   "metadata": {},
   "outputs": [],
   "source": [
    "df.loc[df['company'] == 'Appsmith', 'industry'] = 'Software'"
   ]
  },
  {
   "cell_type": "code",
   "execution_count": 55,
   "id": "6eb95f77-aa54-4270-a9ef-ae8d95fb4f35",
   "metadata": {},
   "outputs": [
    {
     "data": {
      "text/plain": [
       "company                     0\n",
       "location                    1\n",
       "total_laid_off           1446\n",
       "date                        0\n",
       "percentage_laid_off      1516\n",
       "industry                    0\n",
       "source                      0\n",
       "stage                       0\n",
       "funds_raised_millions       0\n",
       "country                     2\n",
       "date_added                  0\n",
       "year                        0\n",
       "month_name                  0\n",
       "dtype: int64"
      ]
     },
     "execution_count": 55,
     "metadata": {},
     "output_type": "execute_result"
    }
   ],
   "source": [
    "df.isnull().sum()"
   ]
  },
  {
   "cell_type": "code",
   "execution_count": 56,
   "id": "37bc4740-04bb-48a8-986c-00ab383e6037",
   "metadata": {},
   "outputs": [
    {
     "data": {
      "text/html": [
       "<div>\n",
       "<style scoped>\n",
       "    .dataframe tbody tr th:only-of-type {\n",
       "        vertical-align: middle;\n",
       "    }\n",
       "\n",
       "    .dataframe tbody tr th {\n",
       "        vertical-align: top;\n",
       "    }\n",
       "\n",
       "    .dataframe thead th {\n",
       "        text-align: right;\n",
       "    }\n",
       "</style>\n",
       "<table border=\"1\" class=\"dataframe\">\n",
       "  <thead>\n",
       "    <tr style=\"text-align: right;\">\n",
       "      <th></th>\n",
       "      <th>company</th>\n",
       "      <th>location</th>\n",
       "      <th>country</th>\n",
       "    </tr>\n",
       "  </thead>\n",
       "  <tbody>\n",
       "    <tr>\n",
       "      <th>1073</th>\n",
       "      <td>Fit Analytics</td>\n",
       "      <td>Berlin</td>\n",
       "      <td>NaN</td>\n",
       "    </tr>\n",
       "    <tr>\n",
       "      <th>1358</th>\n",
       "      <td>Ludia</td>\n",
       "      <td>Montreal</td>\n",
       "      <td>NaN</td>\n",
       "    </tr>\n",
       "  </tbody>\n",
       "</table>\n",
       "</div>"
      ],
      "text/plain": [
       "            company  location country\n",
       "1073  Fit Analytics    Berlin     NaN\n",
       "1358          Ludia  Montreal     NaN"
      ]
     },
     "execution_count": 56,
     "metadata": {},
     "output_type": "execute_result"
    }
   ],
   "source": [
    "df[df['country'].isnull()][['company','location','country']]"
   ]
  },
  {
   "cell_type": "code",
   "execution_count": 57,
   "id": "0116a5ff-4ea1-4dd5-ba62-61ad1005d2ff",
   "metadata": {},
   "outputs": [],
   "source": [
    "df.loc[df['location'] == 'Berlin', 'country'] = 'Germany'"
   ]
  },
  {
   "cell_type": "code",
   "execution_count": 58,
   "id": "ec7b3d71-a78a-406f-ba44-31088eb8a409",
   "metadata": {},
   "outputs": [],
   "source": [
    "df.loc[df['location'] == 'Montreal', 'country'] = 'Canada'"
   ]
  },
  {
   "cell_type": "code",
   "execution_count": 59,
   "id": "7dfb44bb-3692-4424-8fa8-e486a0ba0968",
   "metadata": {},
   "outputs": [
    {
     "data": {
      "text/plain": [
       "company                     0\n",
       "location                    1\n",
       "total_laid_off           1446\n",
       "date                        0\n",
       "percentage_laid_off      1516\n",
       "industry                    0\n",
       "source                      0\n",
       "stage                       0\n",
       "funds_raised_millions       0\n",
       "country                     0\n",
       "date_added                  0\n",
       "year                        0\n",
       "month_name                  0\n",
       "dtype: int64"
      ]
     },
     "execution_count": 59,
     "metadata": {},
     "output_type": "execute_result"
    }
   ],
   "source": [
    "df.isnull().sum()"
   ]
  },
  {
   "cell_type": "code",
   "execution_count": 60,
   "id": "a13d06c8-6e7a-4c41-9f2b-77ae2fa94d18",
   "metadata": {},
   "outputs": [
    {
     "data": {
      "text/html": [
       "<div>\n",
       "<style scoped>\n",
       "    .dataframe tbody tr th:only-of-type {\n",
       "        vertical-align: middle;\n",
       "    }\n",
       "\n",
       "    .dataframe tbody tr th {\n",
       "        vertical-align: top;\n",
       "    }\n",
       "\n",
       "    .dataframe thead th {\n",
       "        text-align: right;\n",
       "    }\n",
       "</style>\n",
       "<table border=\"1\" class=\"dataframe\">\n",
       "  <thead>\n",
       "    <tr style=\"text-align: right;\">\n",
       "      <th></th>\n",
       "      <th>location</th>\n",
       "      <th>country</th>\n",
       "    </tr>\n",
       "  </thead>\n",
       "  <tbody>\n",
       "    <tr>\n",
       "      <th>1039</th>\n",
       "      <td>NaN</td>\n",
       "      <td>United States</td>\n",
       "    </tr>\n",
       "  </tbody>\n",
       "</table>\n",
       "</div>"
      ],
      "text/plain": [
       "     location        country\n",
       "1039      NaN  United States"
      ]
     },
     "execution_count": 60,
     "metadata": {},
     "output_type": "execute_result"
    }
   ],
   "source": [
    "df[df['location'].isna()][['location','country']]"
   ]
  },
  {
   "cell_type": "code",
   "execution_count": 61,
   "id": "8244dd96-9cb3-4b19-833a-83c251b58ab8",
   "metadata": {},
   "outputs": [],
   "source": [
    "df['location'] = df['location'].fillna('Unknown')"
   ]
  },
  {
   "cell_type": "code",
   "execution_count": 62,
   "id": "628650ff-05b9-46c6-aaf3-bb226a0e065a",
   "metadata": {},
   "outputs": [
    {
     "data": {
      "text/plain": [
       "company                     0\n",
       "location                    0\n",
       "total_laid_off           1446\n",
       "date                        0\n",
       "percentage_laid_off      1516\n",
       "industry                    0\n",
       "source                      0\n",
       "stage                       0\n",
       "funds_raised_millions       0\n",
       "country                     0\n",
       "date_added                  0\n",
       "year                        0\n",
       "month_name                  0\n",
       "dtype: int64"
      ]
     },
     "execution_count": 62,
     "metadata": {},
     "output_type": "execute_result"
    }
   ],
   "source": [
    "df.isnull().sum()"
   ]
  },
  {
   "cell_type": "code",
   "execution_count": 63,
   "id": "3cb841f3-3850-419d-bdc3-8169760ee568",
   "metadata": {},
   "outputs": [
    {
     "data": {
      "text/html": [
       "<div>\n",
       "<style scoped>\n",
       "    .dataframe tbody tr th:only-of-type {\n",
       "        vertical-align: middle;\n",
       "    }\n",
       "\n",
       "    .dataframe tbody tr th {\n",
       "        vertical-align: top;\n",
       "    }\n",
       "\n",
       "    .dataframe thead th {\n",
       "        text-align: right;\n",
       "    }\n",
       "</style>\n",
       "<table border=\"1\" class=\"dataframe\">\n",
       "  <thead>\n",
       "    <tr style=\"text-align: right;\">\n",
       "      <th></th>\n",
       "      <th>company</th>\n",
       "      <th>location</th>\n",
       "      <th>total_laid_off</th>\n",
       "      <th>date</th>\n",
       "      <th>percentage_laid_off</th>\n",
       "      <th>industry</th>\n",
       "      <th>source</th>\n",
       "      <th>stage</th>\n",
       "      <th>funds_raised_millions</th>\n",
       "      <th>country</th>\n",
       "      <th>date_added</th>\n",
       "      <th>year</th>\n",
       "      <th>month_name</th>\n",
       "    </tr>\n",
       "  </thead>\n",
       "  <tbody>\n",
       "    <tr>\n",
       "      <th>6</th>\n",
       "      <td>Verily</td>\n",
       "      <td>Sf Bay Area</td>\n",
       "      <td>NaN</td>\n",
       "      <td>2025-08-26</td>\n",
       "      <td>NaN</td>\n",
       "      <td>Healthcare</td>\n",
       "      <td>Https://Www.Businessinsider.Com/Alphabets-Veri...</td>\n",
       "      <td>Subsidiary</td>\n",
       "      <td>3500.0</td>\n",
       "      <td>United States</td>\n",
       "      <td>8/30/2025</td>\n",
       "      <td>2025</td>\n",
       "      <td>August</td>\n",
       "    </tr>\n",
       "    <tr>\n",
       "      <th>7</th>\n",
       "      <td>Klaviyo</td>\n",
       "      <td>Boston</td>\n",
       "      <td>NaN</td>\n",
       "      <td>2025-08-25</td>\n",
       "      <td>NaN</td>\n",
       "      <td>Marketing</td>\n",
       "      <td>Https://Www.Theinformation.Com/Briefings/Klavi...</td>\n",
       "      <td>Unknown</td>\n",
       "      <td>778.0</td>\n",
       "      <td>United States</td>\n",
       "      <td>8/25/2025</td>\n",
       "      <td>2025</td>\n",
       "      <td>August</td>\n",
       "    </tr>\n",
       "    <tr>\n",
       "      <th>9</th>\n",
       "      <td>Tiktok</td>\n",
       "      <td>London</td>\n",
       "      <td>NaN</td>\n",
       "      <td>2025-08-22</td>\n",
       "      <td>NaN</td>\n",
       "      <td>Consumer</td>\n",
       "      <td>Https://Www.Wsj.Com/Tech/Tiktok-To-Lay-Off-Hun...</td>\n",
       "      <td>Acquired</td>\n",
       "      <td>0.0</td>\n",
       "      <td>United Kingdom</td>\n",
       "      <td>8/23/2025</td>\n",
       "      <td>2025</td>\n",
       "      <td>August</td>\n",
       "    </tr>\n",
       "    <tr>\n",
       "      <th>18</th>\n",
       "      <td>Amdocs</td>\n",
       "      <td>St. Louis</td>\n",
       "      <td>NaN</td>\n",
       "      <td>2025-08-12</td>\n",
       "      <td>NaN</td>\n",
       "      <td>Support</td>\n",
       "      <td>Https://Www.Calcalistech.Com/Ctechnews/Article...</td>\n",
       "      <td>Post-Ipo</td>\n",
       "      <td>0.0</td>\n",
       "      <td>United States</td>\n",
       "      <td>8/18/2025</td>\n",
       "      <td>2025</td>\n",
       "      <td>August</td>\n",
       "    </tr>\n",
       "    <tr>\n",
       "      <th>19</th>\n",
       "      <td>Crunchyroll</td>\n",
       "      <td>Tokyo</td>\n",
       "      <td>NaN</td>\n",
       "      <td>2025-08-12</td>\n",
       "      <td>NaN</td>\n",
       "      <td>Media</td>\n",
       "      <td>Https://Www.Thewrap.Com/Crunchyroll-Restructur...</td>\n",
       "      <td>Acquired</td>\n",
       "      <td>26.0</td>\n",
       "      <td>Japan</td>\n",
       "      <td>8/18/2025</td>\n",
       "      <td>2025</td>\n",
       "      <td>August</td>\n",
       "    </tr>\n",
       "    <tr>\n",
       "      <th>...</th>\n",
       "      <td>...</td>\n",
       "      <td>...</td>\n",
       "      <td>...</td>\n",
       "      <td>...</td>\n",
       "      <td>...</td>\n",
       "      <td>...</td>\n",
       "      <td>...</td>\n",
       "      <td>...</td>\n",
       "      <td>...</td>\n",
       "      <td>...</td>\n",
       "      <td>...</td>\n",
       "      <td>...</td>\n",
       "      <td>...</td>\n",
       "    </tr>\n",
       "    <tr>\n",
       "      <th>4116</th>\n",
       "      <td>Spothero</td>\n",
       "      <td>Chicago</td>\n",
       "      <td>NaN</td>\n",
       "      <td>2020-03-24</td>\n",
       "      <td>NaN</td>\n",
       "      <td>Transportation</td>\n",
       "      <td>Https://Americaninno.Com/Chicago/Inno-News-Chi...</td>\n",
       "      <td>Series D</td>\n",
       "      <td>117.0</td>\n",
       "      <td>United States</td>\n",
       "      <td>3/28/2020</td>\n",
       "      <td>2020</td>\n",
       "      <td>March</td>\n",
       "    </tr>\n",
       "    <tr>\n",
       "      <th>4127</th>\n",
       "      <td>Zwift</td>\n",
       "      <td>Los Angeles</td>\n",
       "      <td>NaN</td>\n",
       "      <td>2020-03-23</td>\n",
       "      <td>NaN</td>\n",
       "      <td>Fitness</td>\n",
       "      <td>Https://Www.Dcrainmaker.Com/2020/03/Zwift-Lays...</td>\n",
       "      <td>Series B</td>\n",
       "      <td>164.0</td>\n",
       "      <td>United States</td>\n",
       "      <td>4/2/2020</td>\n",
       "      <td>2020</td>\n",
       "      <td>March</td>\n",
       "    </tr>\n",
       "    <tr>\n",
       "      <th>4133</th>\n",
       "      <td>Vacasa</td>\n",
       "      <td>Portland</td>\n",
       "      <td>NaN</td>\n",
       "      <td>2020-03-20</td>\n",
       "      <td>NaN</td>\n",
       "      <td>Travel</td>\n",
       "      <td>Https://Www.Bizjournals.Com/Portland/News/2020...</td>\n",
       "      <td>Series C</td>\n",
       "      <td>526.0</td>\n",
       "      <td>United States</td>\n",
       "      <td>3/28/2020</td>\n",
       "      <td>2020</td>\n",
       "      <td>March</td>\n",
       "    </tr>\n",
       "    <tr>\n",
       "      <th>4138</th>\n",
       "      <td>Anyvision</td>\n",
       "      <td>Tel Aviv</td>\n",
       "      <td>NaN</td>\n",
       "      <td>2020-03-19</td>\n",
       "      <td>NaN</td>\n",
       "      <td>Security</td>\n",
       "      <td>Https://Ipvm.Com/Reports/Anyvision-20-Layoffs</td>\n",
       "      <td>Series A</td>\n",
       "      <td>74.0</td>\n",
       "      <td>Israel</td>\n",
       "      <td>3/30/2020</td>\n",
       "      <td>2020</td>\n",
       "      <td>March</td>\n",
       "    </tr>\n",
       "    <tr>\n",
       "      <th>4140</th>\n",
       "      <td>Tuft &amp; Needle</td>\n",
       "      <td>Phoenix</td>\n",
       "      <td>NaN</td>\n",
       "      <td>2020-03-19</td>\n",
       "      <td>NaN</td>\n",
       "      <td>Retail</td>\n",
       "      <td>Https://Www.Theverge.Com/2020/3/19/21185840/Tu...</td>\n",
       "      <td>Acquired</td>\n",
       "      <td>0.0</td>\n",
       "      <td>United States</td>\n",
       "      <td>4/5/2020</td>\n",
       "      <td>2020</td>\n",
       "      <td>March</td>\n",
       "    </tr>\n",
       "  </tbody>\n",
       "</table>\n",
       "<p>682 rows × 13 columns</p>\n",
       "</div>"
      ],
      "text/plain": [
       "            company     location  total_laid_off       date  \\\n",
       "6            Verily  Sf Bay Area             NaN 2025-08-26   \n",
       "7           Klaviyo       Boston             NaN 2025-08-25   \n",
       "9            Tiktok       London             NaN 2025-08-22   \n",
       "18           Amdocs    St. Louis             NaN 2025-08-12   \n",
       "19      Crunchyroll        Tokyo             NaN 2025-08-12   \n",
       "...             ...          ...             ...        ...   \n",
       "4116       Spothero      Chicago             NaN 2020-03-24   \n",
       "4127          Zwift  Los Angeles             NaN 2020-03-23   \n",
       "4133         Vacasa     Portland             NaN 2020-03-20   \n",
       "4138      Anyvision     Tel Aviv             NaN 2020-03-19   \n",
       "4140  Tuft & Needle      Phoenix             NaN 2020-03-19   \n",
       "\n",
       "      percentage_laid_off        industry  \\\n",
       "6                     NaN      Healthcare   \n",
       "7                     NaN       Marketing   \n",
       "9                     NaN        Consumer   \n",
       "18                    NaN         Support   \n",
       "19                    NaN           Media   \n",
       "...                   ...             ...   \n",
       "4116                  NaN  Transportation   \n",
       "4127                  NaN         Fitness   \n",
       "4133                  NaN          Travel   \n",
       "4138                  NaN        Security   \n",
       "4140                  NaN          Retail   \n",
       "\n",
       "                                                 source       stage  \\\n",
       "6     Https://Www.Businessinsider.Com/Alphabets-Veri...  Subsidiary   \n",
       "7     Https://Www.Theinformation.Com/Briefings/Klavi...     Unknown   \n",
       "9     Https://Www.Wsj.Com/Tech/Tiktok-To-Lay-Off-Hun...    Acquired   \n",
       "18    Https://Www.Calcalistech.Com/Ctechnews/Article...    Post-Ipo   \n",
       "19    Https://Www.Thewrap.Com/Crunchyroll-Restructur...    Acquired   \n",
       "...                                                 ...         ...   \n",
       "4116  Https://Americaninno.Com/Chicago/Inno-News-Chi...    Series D   \n",
       "4127  Https://Www.Dcrainmaker.Com/2020/03/Zwift-Lays...    Series B   \n",
       "4133  Https://Www.Bizjournals.Com/Portland/News/2020...    Series C   \n",
       "4138      Https://Ipvm.Com/Reports/Anyvision-20-Layoffs    Series A   \n",
       "4140  Https://Www.Theverge.Com/2020/3/19/21185840/Tu...    Acquired   \n",
       "\n",
       "      funds_raised_millions         country date_added  year month_name  \n",
       "6                    3500.0   United States  8/30/2025  2025     August  \n",
       "7                     778.0   United States  8/25/2025  2025     August  \n",
       "9                       0.0  United Kingdom  8/23/2025  2025     August  \n",
       "18                      0.0   United States  8/18/2025  2025     August  \n",
       "19                     26.0           Japan  8/18/2025  2025     August  \n",
       "...                     ...             ...        ...   ...        ...  \n",
       "4116                  117.0   United States  3/28/2020  2020      March  \n",
       "4127                  164.0   United States   4/2/2020  2020      March  \n",
       "4133                  526.0   United States  3/28/2020  2020      March  \n",
       "4138                   74.0          Israel  3/30/2020  2020      March  \n",
       "4140                    0.0   United States   4/5/2020  2020      March  \n",
       "\n",
       "[682 rows x 13 columns]"
      ]
     },
     "execution_count": 63,
     "metadata": {},
     "output_type": "execute_result"
    }
   ],
   "source": [
    "# total_laid_off And percentage_laid_off\n",
    "\n",
    "missing_both = df[df['total_laid_off'].isnull() & df['percentage_laid_off'].isnull()]\n",
    "missing_both"
   ]
  },
  {
   "cell_type": "code",
   "execution_count": 64,
   "id": "7385b74a-aa95-4542-b530-1f75e4efb698",
   "metadata": {},
   "outputs": [
    {
     "data": {
      "text/plain": [
       "array(['Consumer', 'Ai', 'Sales', 'Healthcare', 'Marketing', 'Retail',\n",
       "       'Infrastructure', 'Other', 'Transportation', 'Food', 'Security',\n",
       "       'Support', 'Media', 'Fitness', 'Finance', 'Software', 'Logistics',\n",
       "       'Crypto', 'Real Estate', 'Product', 'Data', 'Hardware', 'Hr',\n",
       "       'Education', 'Energy', 'Manufacturing', 'Travel', 'Aerospace',\n",
       "       'Recruiting', 'Construction', 'Legal'], dtype=object)"
      ]
     },
     "execution_count": 64,
     "metadata": {},
     "output_type": "execute_result"
    }
   ],
   "source": [
    "df['industry'].unique()"
   ]
  },
  {
   "cell_type": "code",
   "execution_count": 65,
   "id": "68d9c4af-b284-40f1-b991-23eb3fb1aac4",
   "metadata": {},
   "outputs": [],
   "source": [
    "# grouping the data by industry\n",
    "\n",
    "industry_groups = df.groupby('industry')"
   ]
  },
  {
   "cell_type": "code",
   "execution_count": 66,
   "id": "c623622d-f5c9-49dc-84b1-fe6219ab2b3b",
   "metadata": {},
   "outputs": [],
   "source": [
    "# calculating median of total_laid_off for each industry\n",
    "\n",
    "industry_median = industry_groups['total_laid_off'].median()"
   ]
  },
  {
   "cell_type": "code",
   "execution_count": 67,
   "id": "2f20c967-0c70-4212-b423-b68ed68f19f0",
   "metadata": {},
   "outputs": [
    {
     "data": {
      "text/plain": [
       "industry\n",
       "Aerospace         100.0\n",
       "Ai                 21.0\n",
       "Construction      127.0\n",
       "Consumer          100.0\n",
       "Crypto             69.0\n",
       "Data               80.0\n",
       "Education          95.0\n",
       "Energy            154.0\n",
       "Finance            71.0\n",
       "Fitness           135.0\n",
       "Food              124.0\n",
       "Hardware          305.5\n",
       "Healthcare         82.5\n",
       "Hr                 59.0\n",
       "Infrastructure     67.5\n",
       "Legal              75.0\n",
       "Logistics          64.0\n",
       "Manufacturing     108.0\n",
       "Marketing          52.0\n",
       "Media              50.0\n",
       "Other             110.0\n",
       "Product            35.5\n",
       "Real Estate       100.0\n",
       "Recruiting         58.0\n",
       "Retail            100.0\n",
       "Sales              70.0\n",
       "Security           70.0\n",
       "Software           35.0\n",
       "Support            95.0\n",
       "Transportation    129.0\n",
       "Travel            137.0\n",
       "Name: total_laid_off, dtype: float64"
      ]
     },
     "execution_count": 67,
     "metadata": {},
     "output_type": "execute_result"
    }
   ],
   "source": [
    "industry_median"
   ]
  },
  {
   "cell_type": "code",
   "execution_count": 68,
   "id": "64cab1ec-9ed0-4ac5-a3e8-95ce97d58282",
   "metadata": {},
   "outputs": [],
   "source": [
    "# Filling Nan in total_laid_off using industry median\n",
    "\n",
    "df['total_laid_off'] = df['total_laid_off'].fillna(df['industry'].map(industry_median))"
   ]
  },
  {
   "cell_type": "code",
   "execution_count": 69,
   "id": "c893330f-d751-4464-9f24-6c9626bf34b7",
   "metadata": {},
   "outputs": [
    {
     "data": {
      "text/plain": [
       "company                     0\n",
       "location                    0\n",
       "total_laid_off              0\n",
       "date                        0\n",
       "percentage_laid_off      1516\n",
       "industry                    0\n",
       "source                      0\n",
       "stage                       0\n",
       "funds_raised_millions       0\n",
       "country                     0\n",
       "date_added                  0\n",
       "year                        0\n",
       "month_name                  0\n",
       "dtype: int64"
      ]
     },
     "execution_count": 69,
     "metadata": {},
     "output_type": "execute_result"
    }
   ],
   "source": [
    "df.isnull().sum()"
   ]
  },
  {
   "cell_type": "code",
   "execution_count": 70,
   "id": "de352b9b-c76b-441f-98a2-8176d016ccf6",
   "metadata": {},
   "outputs": [],
   "source": [
    "# Grouping industry wise median\n",
    "\n",
    "industry_median_pct = df.groupby('industry')['percentage_laid_off'].median()"
   ]
  },
  {
   "cell_type": "code",
   "execution_count": 71,
   "id": "f587701e-16a1-46c1-9112-16c0e2e267ba",
   "metadata": {},
   "outputs": [
    {
     "data": {
      "text/plain": [
       "industry\n",
       "Aerospace         25.0\n",
       "Ai                20.0\n",
       "Construction      16.0\n",
       "Consumer          17.0\n",
       "Crypto            20.0\n",
       "Data              13.5\n",
       "Education         20.0\n",
       "Energy            25.0\n",
       "Finance           20.0\n",
       "Fitness           18.0\n",
       "Food              20.0\n",
       "Hardware           7.0\n",
       "Healthcare        20.0\n",
       "Hr                15.0\n",
       "Infrastructure    13.0\n",
       "Legal             10.0\n",
       "Logistics         15.0\n",
       "Manufacturing     15.0\n",
       "Marketing         14.0\n",
       "Media             15.0\n",
       "Other             15.0\n",
       "Product           16.0\n",
       "Real Estate       22.0\n",
       "Recruiting        17.5\n",
       "Retail            18.0\n",
       "Sales              9.5\n",
       "Security          10.0\n",
       "Software          32.5\n",
       "Support           10.0\n",
       "Transportation    17.0\n",
       "Travel            22.0\n",
       "Name: percentage_laid_off, dtype: float64"
      ]
     },
     "execution_count": 71,
     "metadata": {},
     "output_type": "execute_result"
    }
   ],
   "source": [
    "industry_median_pct"
   ]
  },
  {
   "cell_type": "code",
   "execution_count": 72,
   "id": "9891cbed-dc99-4883-bf15-a914b858d098",
   "metadata": {},
   "outputs": [],
   "source": [
    "## Filling missing percentage_laid_off \n",
    "\n",
    "df['percentage_laid_off'] = df['percentage_laid_off'].fillna(df['industry'].map(industry_median_pct))"
   ]
  },
  {
   "cell_type": "code",
   "execution_count": 73,
   "id": "cb5f8a15-7e43-4ca1-9ffb-f1be7a656677",
   "metadata": {},
   "outputs": [
    {
     "data": {
      "text/plain": [
       "np.int64(0)"
      ]
     },
     "execution_count": 73,
     "metadata": {},
     "output_type": "execute_result"
    }
   ],
   "source": [
    "df['percentage_laid_off'].isnull().sum()"
   ]
  },
  {
   "cell_type": "code",
   "execution_count": 74,
   "id": "b69dd781-f90a-4c5c-a659-aaf0845ac531",
   "metadata": {},
   "outputs": [
    {
     "data": {
      "text/plain": [
       "company                  0\n",
       "location                 0\n",
       "total_laid_off           0\n",
       "date                     0\n",
       "percentage_laid_off      0\n",
       "industry                 0\n",
       "source                   0\n",
       "stage                    0\n",
       "funds_raised_millions    0\n",
       "country                  0\n",
       "date_added               0\n",
       "year                     0\n",
       "month_name               0\n",
       "dtype: int64"
      ]
     },
     "execution_count": 74,
     "metadata": {},
     "output_type": "execute_result"
    }
   ],
   "source": [
    "df.isnull().sum()"
   ]
  },
  {
   "cell_type": "code",
   "execution_count": 75,
   "id": "1d34f0d3-8886-4a18-bf0f-0d28a3d05860",
   "metadata": {},
   "outputs": [
    {
     "data": {
      "text/html": [
       "<div>\n",
       "<style scoped>\n",
       "    .dataframe tbody tr th:only-of-type {\n",
       "        vertical-align: middle;\n",
       "    }\n",
       "\n",
       "    .dataframe tbody tr th {\n",
       "        vertical-align: top;\n",
       "    }\n",
       "\n",
       "    .dataframe thead th {\n",
       "        text-align: right;\n",
       "    }\n",
       "</style>\n",
       "<table border=\"1\" class=\"dataframe\">\n",
       "  <thead>\n",
       "    <tr style=\"text-align: right;\">\n",
       "      <th></th>\n",
       "      <th>company</th>\n",
       "      <th>location</th>\n",
       "      <th>total_laid_off</th>\n",
       "      <th>date</th>\n",
       "      <th>percentage_laid_off</th>\n",
       "      <th>industry</th>\n",
       "      <th>source</th>\n",
       "      <th>stage</th>\n",
       "      <th>funds_raised_millions</th>\n",
       "      <th>country</th>\n",
       "      <th>date_added</th>\n",
       "      <th>year</th>\n",
       "      <th>month_name</th>\n",
       "    </tr>\n",
       "  </thead>\n",
       "  <tbody>\n",
       "    <tr>\n",
       "      <th>0</th>\n",
       "      <td>Games 24X7</td>\n",
       "      <td>Mumbai</td>\n",
       "      <td>400.0</td>\n",
       "      <td>2025-09-01</td>\n",
       "      <td>17.0</td>\n",
       "      <td>Consumer</td>\n",
       "      <td>Https://Www.Peoplematters.In/News/Strategic-Hr...</td>\n",
       "      <td>Unknown</td>\n",
       "      <td>75.0</td>\n",
       "      <td>India</td>\n",
       "      <td>9/2/2025</td>\n",
       "      <td>2025</td>\n",
       "      <td>September</td>\n",
       "    </tr>\n",
       "    <tr>\n",
       "      <th>1</th>\n",
       "      <td>Mobile Premier League</td>\n",
       "      <td>Bengaluru</td>\n",
       "      <td>300.0</td>\n",
       "      <td>2025-09-01</td>\n",
       "      <td>17.0</td>\n",
       "      <td>Consumer</td>\n",
       "      <td>Https://Timesofindia.Indiatimes.Com/Technology...</td>\n",
       "      <td>Series E</td>\n",
       "      <td>375.0</td>\n",
       "      <td>India</td>\n",
       "      <td>9/2/2025</td>\n",
       "      <td>2025</td>\n",
       "      <td>September</td>\n",
       "    </tr>\n",
       "    <tr>\n",
       "      <th>2</th>\n",
       "      <td>Krutrim</td>\n",
       "      <td>Bengaluru</td>\n",
       "      <td>50.0</td>\n",
       "      <td>2025-09-01</td>\n",
       "      <td>20.0</td>\n",
       "      <td>Ai</td>\n",
       "      <td>Https://Www.Techinasia.Com/News/Olas-Krutrim-C...</td>\n",
       "      <td>Unknown</td>\n",
       "      <td>304.0</td>\n",
       "      <td>India</td>\n",
       "      <td>9/2/2025</td>\n",
       "      <td>2025</td>\n",
       "      <td>September</td>\n",
       "    </tr>\n",
       "    <tr>\n",
       "      <th>3</th>\n",
       "      <td>Salesforce</td>\n",
       "      <td>Sf Bay Area</td>\n",
       "      <td>4000.0</td>\n",
       "      <td>2025-08-31</td>\n",
       "      <td>9.5</td>\n",
       "      <td>Sales</td>\n",
       "      <td>Https://Www.Businessinsider.Com/Marc-Benioff-S...</td>\n",
       "      <td>Post-Ipo</td>\n",
       "      <td>65.0</td>\n",
       "      <td>United States</td>\n",
       "      <td>9/2/2025</td>\n",
       "      <td>2025</td>\n",
       "      <td>August</td>\n",
       "    </tr>\n",
       "    <tr>\n",
       "      <th>4</th>\n",
       "      <td>Flip</td>\n",
       "      <td>Sf Bay Area</td>\n",
       "      <td>100.0</td>\n",
       "      <td>2025-08-29</td>\n",
       "      <td>100.0</td>\n",
       "      <td>Consumer</td>\n",
       "      <td>Https://Www.Sfgate.Com/Tech/Article/Flip-Start...</td>\n",
       "      <td>Series C</td>\n",
       "      <td>294.0</td>\n",
       "      <td>United States</td>\n",
       "      <td>8/30/2025</td>\n",
       "      <td>2025</td>\n",
       "      <td>August</td>\n",
       "    </tr>\n",
       "  </tbody>\n",
       "</table>\n",
       "</div>"
      ],
      "text/plain": [
       "                 company     location  total_laid_off       date  \\\n",
       "0             Games 24X7       Mumbai           400.0 2025-09-01   \n",
       "1  Mobile Premier League    Bengaluru           300.0 2025-09-01   \n",
       "2                Krutrim    Bengaluru            50.0 2025-09-01   \n",
       "3             Salesforce  Sf Bay Area          4000.0 2025-08-31   \n",
       "4                   Flip  Sf Bay Area           100.0 2025-08-29   \n",
       "\n",
       "   percentage_laid_off  industry  \\\n",
       "0                 17.0  Consumer   \n",
       "1                 17.0  Consumer   \n",
       "2                 20.0        Ai   \n",
       "3                  9.5     Sales   \n",
       "4                100.0  Consumer   \n",
       "\n",
       "                                              source     stage  \\\n",
       "0  Https://Www.Peoplematters.In/News/Strategic-Hr...   Unknown   \n",
       "1  Https://Timesofindia.Indiatimes.Com/Technology...  Series E   \n",
       "2  Https://Www.Techinasia.Com/News/Olas-Krutrim-C...   Unknown   \n",
       "3  Https://Www.Businessinsider.Com/Marc-Benioff-S...  Post-Ipo   \n",
       "4  Https://Www.Sfgate.Com/Tech/Article/Flip-Start...  Series C   \n",
       "\n",
       "   funds_raised_millions        country date_added  year month_name  \n",
       "0                   75.0          India   9/2/2025  2025  September  \n",
       "1                  375.0          India   9/2/2025  2025  September  \n",
       "2                  304.0          India   9/2/2025  2025  September  \n",
       "3                   65.0  United States   9/2/2025  2025     August  \n",
       "4                  294.0  United States  8/30/2025  2025     August  "
      ]
     },
     "execution_count": 75,
     "metadata": {},
     "output_type": "execute_result"
    }
   ],
   "source": [
    "df.head()"
   ]
  },
  {
   "cell_type": "code",
   "execution_count": 76,
   "id": "22a579bc-2836-4152-a6b7-58626d20e0b5",
   "metadata": {},
   "outputs": [],
   "source": [
    "df = df.drop(columns = ['date_added','source'])"
   ]
  },
  {
   "cell_type": "code",
   "execution_count": 77,
   "id": "b0a6d491-e9be-40a5-b636-d6d6cd12ca38",
   "metadata": {},
   "outputs": [
    {
     "data": {
      "text/html": [
       "<div>\n",
       "<style scoped>\n",
       "    .dataframe tbody tr th:only-of-type {\n",
       "        vertical-align: middle;\n",
       "    }\n",
       "\n",
       "    .dataframe tbody tr th {\n",
       "        vertical-align: top;\n",
       "    }\n",
       "\n",
       "    .dataframe thead th {\n",
       "        text-align: right;\n",
       "    }\n",
       "</style>\n",
       "<table border=\"1\" class=\"dataframe\">\n",
       "  <thead>\n",
       "    <tr style=\"text-align: right;\">\n",
       "      <th></th>\n",
       "      <th>company</th>\n",
       "      <th>location</th>\n",
       "      <th>total_laid_off</th>\n",
       "      <th>date</th>\n",
       "      <th>percentage_laid_off</th>\n",
       "      <th>industry</th>\n",
       "      <th>stage</th>\n",
       "      <th>funds_raised_millions</th>\n",
       "      <th>country</th>\n",
       "      <th>year</th>\n",
       "      <th>month_name</th>\n",
       "    </tr>\n",
       "  </thead>\n",
       "  <tbody>\n",
       "    <tr>\n",
       "      <th>0</th>\n",
       "      <td>Games 24X7</td>\n",
       "      <td>Mumbai</td>\n",
       "      <td>400.0</td>\n",
       "      <td>2025-09-01</td>\n",
       "      <td>17.0</td>\n",
       "      <td>Consumer</td>\n",
       "      <td>Unknown</td>\n",
       "      <td>75.0</td>\n",
       "      <td>India</td>\n",
       "      <td>2025</td>\n",
       "      <td>September</td>\n",
       "    </tr>\n",
       "    <tr>\n",
       "      <th>1</th>\n",
       "      <td>Mobile Premier League</td>\n",
       "      <td>Bengaluru</td>\n",
       "      <td>300.0</td>\n",
       "      <td>2025-09-01</td>\n",
       "      <td>17.0</td>\n",
       "      <td>Consumer</td>\n",
       "      <td>Series E</td>\n",
       "      <td>375.0</td>\n",
       "      <td>India</td>\n",
       "      <td>2025</td>\n",
       "      <td>September</td>\n",
       "    </tr>\n",
       "    <tr>\n",
       "      <th>2</th>\n",
       "      <td>Krutrim</td>\n",
       "      <td>Bengaluru</td>\n",
       "      <td>50.0</td>\n",
       "      <td>2025-09-01</td>\n",
       "      <td>20.0</td>\n",
       "      <td>Ai</td>\n",
       "      <td>Unknown</td>\n",
       "      <td>304.0</td>\n",
       "      <td>India</td>\n",
       "      <td>2025</td>\n",
       "      <td>September</td>\n",
       "    </tr>\n",
       "    <tr>\n",
       "      <th>3</th>\n",
       "      <td>Salesforce</td>\n",
       "      <td>Sf Bay Area</td>\n",
       "      <td>4000.0</td>\n",
       "      <td>2025-08-31</td>\n",
       "      <td>9.5</td>\n",
       "      <td>Sales</td>\n",
       "      <td>Post-Ipo</td>\n",
       "      <td>65.0</td>\n",
       "      <td>United States</td>\n",
       "      <td>2025</td>\n",
       "      <td>August</td>\n",
       "    </tr>\n",
       "    <tr>\n",
       "      <th>4</th>\n",
       "      <td>Flip</td>\n",
       "      <td>Sf Bay Area</td>\n",
       "      <td>100.0</td>\n",
       "      <td>2025-08-29</td>\n",
       "      <td>100.0</td>\n",
       "      <td>Consumer</td>\n",
       "      <td>Series C</td>\n",
       "      <td>294.0</td>\n",
       "      <td>United States</td>\n",
       "      <td>2025</td>\n",
       "      <td>August</td>\n",
       "    </tr>\n",
       "  </tbody>\n",
       "</table>\n",
       "</div>"
      ],
      "text/plain": [
       "                 company     location  total_laid_off       date  \\\n",
       "0             Games 24X7       Mumbai           400.0 2025-09-01   \n",
       "1  Mobile Premier League    Bengaluru           300.0 2025-09-01   \n",
       "2                Krutrim    Bengaluru            50.0 2025-09-01   \n",
       "3             Salesforce  Sf Bay Area          4000.0 2025-08-31   \n",
       "4                   Flip  Sf Bay Area           100.0 2025-08-29   \n",
       "\n",
       "   percentage_laid_off  industry     stage  funds_raised_millions  \\\n",
       "0                 17.0  Consumer   Unknown                   75.0   \n",
       "1                 17.0  Consumer  Series E                  375.0   \n",
       "2                 20.0        Ai   Unknown                  304.0   \n",
       "3                  9.5     Sales  Post-Ipo                   65.0   \n",
       "4                100.0  Consumer  Series C                  294.0   \n",
       "\n",
       "         country  year month_name  \n",
       "0          India  2025  September  \n",
       "1          India  2025  September  \n",
       "2          India  2025  September  \n",
       "3  United States  2025     August  \n",
       "4  United States  2025     August  "
      ]
     },
     "execution_count": 77,
     "metadata": {},
     "output_type": "execute_result"
    }
   ],
   "source": [
    "df.head()"
   ]
  },
  {
   "cell_type": "code",
   "execution_count": null,
   "id": "2d70c151-4e92-40ed-85e8-2f4615b2dc16",
   "metadata": {},
   "outputs": [],
   "source": []
  }
 ],
 "metadata": {
  "kernelspec": {
   "display_name": "Python 3 (ipykernel)",
   "language": "python",
   "name": "python3"
  },
  "language_info": {
   "codemirror_mode": {
    "name": "ipython",
    "version": 3
   },
   "file_extension": ".py",
   "mimetype": "text/x-python",
   "name": "python",
   "nbconvert_exporter": "python",
   "pygments_lexer": "ipython3",
   "version": "3.13.5"
  }
 },
 "nbformat": 4,
 "nbformat_minor": 5
}
